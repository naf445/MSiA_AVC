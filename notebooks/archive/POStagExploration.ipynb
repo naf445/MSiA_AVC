{
 "cells": [
  {
   "cell_type": "code",
   "execution_count": 1,
   "metadata": {},
   "outputs": [],
   "source": [
    "from data_manipulation import data\n",
    "from nltk import pos_tag, word_tokenize\n",
    "import nltk.chunk\n",
    "import pandas as pd\n",
    "import sys; sys.path.append('../../src/helpers')"
   ]
  },
  {
   "cell_type": "code",
   "execution_count": 2,
   "metadata": {},
   "outputs": [
    {
     "name": "stderr",
     "output_type": "stream",
     "text": [
      "2019-06-12 21:59:58,976 data_manipulation.data INFO     Called loadAndClean function\n",
      "2019-06-12 21:59:58,978 data_manipulation.data INFO     Read in booksummary data\n",
      "2019-06-12 21:59:59,660 data_manipulation.data INFO     Drop any NA's present in dataset under book genre or plot summary\n",
      "2019-06-12 22:00:00,295 data_manipulation.data INFO     returning booksummary data set\n"
     ]
    }
   ],
   "source": [
    "books = data.loadAndClean('../../data/booksummaries/booksummaries.txt')"
   ]
  },
  {
   "cell_type": "code",
   "execution_count": 8,
   "metadata": {},
   "outputs": [],
   "source": [
    "books = books.iloc[:1000, 1]"
   ]
  },
  {
   "cell_type": "code",
   "execution_count": 9,
   "metadata": {},
   "outputs": [],
   "source": [
    "example_corp = books[:10]"
   ]
  },
  {
   "cell_type": "code",
   "execution_count": 10,
   "metadata": {},
   "outputs": [
    {
     "data": {
      "text/plain": [
       "0      Old Major, the old boar on the Manor Farm, ca...\n",
       "1      Alex, a teenager living in near-future Englan...\n",
       "2      The text of The Plague is divided into five p...\n",
       "4      The novel posits that space around the Milky ...\n",
       "5      The book tells the story of Paul Bäumer, a Ge...\n",
       "6      Ged is a young boy on Gont, one of the larger...\n",
       "8      Living on Mars, Deckard is acting as a consul...\n",
       "9      Beginning several months after the events in ...\n",
       "15     The book of Job tells the story of an extreme...\n",
       "20     The story is told through the eyes of narrato...\n",
       "Name: plotSum, dtype: object"
      ]
     },
     "execution_count": 10,
     "metadata": {},
     "output_type": "execute_result"
    }
   ],
   "source": [
    "example_corp"
   ]
  },
  {
   "cell_type": "code",
   "execution_count": 11,
   "metadata": {},
   "outputs": [],
   "source": [
    "tokenized_example_corp = [word_tokenize(example_summary) for example_summary in example_corp]"
   ]
  },
  {
   "cell_type": "code",
   "execution_count": 12,
   "metadata": {},
   "outputs": [
    {
     "data": {
      "text/plain": [
       "['Old', 'Major', ',', 'the', 'old', 'boar', 'on', 'the', 'Manor', 'Farm']"
      ]
     },
     "execution_count": 12,
     "metadata": {},
     "output_type": "execute_result"
    }
   ],
   "source": [
    "tokenized_example_corp[0][:10]"
   ]
  },
  {
   "cell_type": "code",
   "execution_count": 13,
   "metadata": {},
   "outputs": [],
   "source": [
    "example_sentence = tokenized_example_corp[2]"
   ]
  },
  {
   "cell_type": "code",
   "execution_count": null,
   "metadata": {},
   "outputs": [],
   "source": []
  }
 ],
 "metadata": {
  "kernelspec": {
   "display_name": "AVC",
   "language": "python",
   "name": "avc"
  },
  "language_info": {
   "codemirror_mode": {
    "name": "ipython",
    "version": 3
   },
   "file_extension": ".py",
   "mimetype": "text/x-python",
   "name": "python",
   "nbconvert_exporter": "python",
   "pygments_lexer": "ipython3",
   "version": "3.7.3"
  }
 },
 "nbformat": 4,
 "nbformat_minor": 2
}
