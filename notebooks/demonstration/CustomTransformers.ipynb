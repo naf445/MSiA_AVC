{
 "cells": [
  {
   "cell_type": "code",
   "execution_count": 1,
   "metadata": {},
   "outputs": [
    {
     "name": "stderr",
     "output_type": "stream",
     "text": [
      "[nltk_data] Downloading package punkt to\n",
      "[nltk_data]     /Users/nathanfranklin/nltk_data...\n",
      "[nltk_data]   Package punkt is already up-to-date!\n",
      "[nltk_data] Downloading package stopwords to\n",
      "[nltk_data]     /Users/nathanfranklin/nltk_data...\n",
      "[nltk_data]   Package stopwords is already up-to-date!\n"
     ]
    }
   ],
   "source": [
    "import sys; sys.path.append('../../src/helpers')\n",
    "from data_manipulation import data\n",
    "from data_manipulation import custom_transformers as ct\n",
    "import pandas as pd"
   ]
  },
  {
   "cell_type": "code",
   "execution_count": 2,
   "metadata": {},
   "outputs": [
    {
     "name": "stderr",
     "output_type": "stream",
     "text": [
      "2019-06-12 22:11:53,976 data_manipulation.data INFO     Called loadAndClean function\n",
      "2019-06-12 22:11:53,978 data_manipulation.data INFO     Read in booksummary data\n",
      "2019-06-12 22:11:54,665 data_manipulation.data INFO     Drop any NA's present in dataset under book genre or plot summary\n",
      "2019-06-12 22:11:55,283 data_manipulation.data INFO     returning booksummary data set\n"
     ]
    }
   ],
   "source": [
    "books = data.loadAndClean('../../data/booksummaries/booksummaries.txt')\n",
    "books = books[['bookGenre', 'plotSum']]"
   ]
  },
  {
   "cell_type": "code",
   "execution_count": 3,
   "metadata": {},
   "outputs": [
    {
     "data": {
      "text/html": [
       "<div>\n",
       "<style scoped>\n",
       "    .dataframe tbody tr th:only-of-type {\n",
       "        vertical-align: middle;\n",
       "    }\n",
       "\n",
       "    .dataframe tbody tr th {\n",
       "        vertical-align: top;\n",
       "    }\n",
       "\n",
       "    .dataframe thead th {\n",
       "        text-align: right;\n",
       "    }\n",
       "</style>\n",
       "<table border=\"1\" class=\"dataframe\">\n",
       "  <thead>\n",
       "    <tr style=\"text-align: right;\">\n",
       "      <th></th>\n",
       "      <th>bookGenre</th>\n",
       "      <th>plotSum</th>\n",
       "    </tr>\n",
       "  </thead>\n",
       "  <tbody>\n",
       "    <tr>\n",
       "      <th>0</th>\n",
       "      <td>[roman_à_clef, satire, childrens_literature, s...</td>\n",
       "      <td>Old Major, the old boar on the Manor Farm, ca...</td>\n",
       "    </tr>\n",
       "    <tr>\n",
       "      <th>1</th>\n",
       "      <td>[science_fiction, novella, speculative_fiction...</td>\n",
       "      <td>Alex, a teenager living in near-future Englan...</td>\n",
       "    </tr>\n",
       "    <tr>\n",
       "      <th>2</th>\n",
       "      <td>[existentialism, fiction, absurdist_fiction, n...</td>\n",
       "      <td>The text of The Plague is divided into five p...</td>\n",
       "    </tr>\n",
       "  </tbody>\n",
       "</table>\n",
       "</div>"
      ],
      "text/plain": [
       "                                           bookGenre  \\\n",
       "0  [roman_à_clef, satire, childrens_literature, s...   \n",
       "1  [science_fiction, novella, speculative_fiction...   \n",
       "2  [existentialism, fiction, absurdist_fiction, n...   \n",
       "\n",
       "                                             plotSum  \n",
       "0   Old Major, the old boar on the Manor Farm, ca...  \n",
       "1   Alex, a teenager living in near-future Englan...  \n",
       "2   The text of The Plague is divided into five p...  "
      ]
     },
     "execution_count": 3,
     "metadata": {},
     "output_type": "execute_result"
    }
   ],
   "source": [
    "books.head(3)"
   ]
  },
  {
   "cell_type": "code",
   "execution_count": 4,
   "metadata": {},
   "outputs": [
    {
     "name": "stderr",
     "output_type": "stream",
     "text": [
      "2019-06-12 22:11:55,337 data_manipulation.custom_transformers INFO     Calling the Tokenizer transformer\n"
     ]
    },
    {
     "data": {
      "text/html": [
       "<div>\n",
       "<style scoped>\n",
       "    .dataframe tbody tr th:only-of-type {\n",
       "        vertical-align: middle;\n",
       "    }\n",
       "\n",
       "    .dataframe tbody tr th {\n",
       "        vertical-align: top;\n",
       "    }\n",
       "\n",
       "    .dataframe thead th {\n",
       "        text-align: right;\n",
       "    }\n",
       "</style>\n",
       "<table border=\"1\" class=\"dataframe\">\n",
       "  <thead>\n",
       "    <tr style=\"text-align: right;\">\n",
       "      <th></th>\n",
       "      <th>bookGenre</th>\n",
       "      <th>plotSum</th>\n",
       "    </tr>\n",
       "  </thead>\n",
       "  <tbody>\n",
       "    <tr>\n",
       "      <th>0</th>\n",
       "      <td>[roman_à_clef, satire, childrens_literature, s...</td>\n",
       "      <td>[Old, Major, ,, the, old, boar, on, the, Manor...</td>\n",
       "    </tr>\n",
       "    <tr>\n",
       "      <th>1</th>\n",
       "      <td>[science_fiction, novella, speculative_fiction...</td>\n",
       "      <td>[Alex, ,, a, teenager, living, in, near-future...</td>\n",
       "    </tr>\n",
       "    <tr>\n",
       "      <th>2</th>\n",
       "      <td>[existentialism, fiction, absurdist_fiction, n...</td>\n",
       "      <td>[The, text, of, The, Plague, is, divided, into...</td>\n",
       "    </tr>\n",
       "  </tbody>\n",
       "</table>\n",
       "</div>"
      ],
      "text/plain": [
       "                                           bookGenre  \\\n",
       "0  [roman_à_clef, satire, childrens_literature, s...   \n",
       "1  [science_fiction, novella, speculative_fiction...   \n",
       "2  [existentialism, fiction, absurdist_fiction, n...   \n",
       "\n",
       "                                             plotSum  \n",
       "0  [Old, Major, ,, the, old, boar, on, the, Manor...  \n",
       "1  [Alex, ,, a, teenager, living, in, near-future...  \n",
       "2  [The, text, of, The, Plague, is, divided, into...  "
      ]
     },
     "execution_count": 4,
     "metadata": {},
     "output_type": "execute_result"
    }
   ],
   "source": [
    "tokenizer = ct.Tokenizer()\n",
    "tokenized_books = tokenizer.transform(books)\n",
    "tokenized_books.head(3)"
   ]
  },
  {
   "cell_type": "code",
   "execution_count": 5,
   "metadata": {},
   "outputs": [],
   "source": [
    "filterer_of_sentences = ct.Filter_sentence()"
   ]
  },
  {
   "cell_type": "code",
   "execution_count": 6,
   "metadata": {},
   "outputs": [
    {
     "name": "stderr",
     "output_type": "stream",
     "text": [
      "2019-06-12 22:12:39,727 data_manipulation.custom_transformers INFO     Calling the filter sentence transformer\n"
     ]
    }
   ],
   "source": [
    "tokened_and_filtered_summaries = filterer_of_sentences.transform(tokenized_books)"
   ]
  },
  {
   "cell_type": "code",
   "execution_count": 7,
   "metadata": {},
   "outputs": [
    {
     "data": {
      "text/html": [
       "<div>\n",
       "<style scoped>\n",
       "    .dataframe tbody tr th:only-of-type {\n",
       "        vertical-align: middle;\n",
       "    }\n",
       "\n",
       "    .dataframe tbody tr th {\n",
       "        vertical-align: top;\n",
       "    }\n",
       "\n",
       "    .dataframe thead th {\n",
       "        text-align: right;\n",
       "    }\n",
       "</style>\n",
       "<table border=\"1\" class=\"dataframe\">\n",
       "  <thead>\n",
       "    <tr style=\"text-align: right;\">\n",
       "      <th></th>\n",
       "      <th>bookGenre</th>\n",
       "      <th>plotSum</th>\n",
       "    </tr>\n",
       "  </thead>\n",
       "  <tbody>\n",
       "    <tr>\n",
       "      <th>0</th>\n",
       "      <td>[roman_à_clef, satire, childrens_literature, s...</td>\n",
       "      <td>[old, major, old, boar, manor, farm, calls, an...</td>\n",
       "    </tr>\n",
       "    <tr>\n",
       "      <th>1</th>\n",
       "      <td>[science_fiction, novella, speculative_fiction...</td>\n",
       "      <td>[alex, teenager, living, nearfuture, england, ...</td>\n",
       "    </tr>\n",
       "    <tr>\n",
       "      <th>2</th>\n",
       "      <td>[existentialism, fiction, absurdist_fiction, n...</td>\n",
       "      <td>[text, plague, divided, five, parts, town, ora...</td>\n",
       "    </tr>\n",
       "  </tbody>\n",
       "</table>\n",
       "</div>"
      ],
      "text/plain": [
       "                                           bookGenre  \\\n",
       "0  [roman_à_clef, satire, childrens_literature, s...   \n",
       "1  [science_fiction, novella, speculative_fiction...   \n",
       "2  [existentialism, fiction, absurdist_fiction, n...   \n",
       "\n",
       "                                             plotSum  \n",
       "0  [old, major, old, boar, manor, farm, calls, an...  \n",
       "1  [alex, teenager, living, nearfuture, england, ...  \n",
       "2  [text, plague, divided, five, parts, town, ora...  "
      ]
     },
     "execution_count": 7,
     "metadata": {},
     "output_type": "execute_result"
    }
   ],
   "source": [
    "tokened_and_filtered_summaries.head(3)"
   ]
  },
  {
   "cell_type": "code",
   "execution_count": 8,
   "metadata": {},
   "outputs": [
    {
     "name": "stderr",
     "output_type": "stream",
     "text": [
      "2019-06-12 22:13:53,577 data_manipulation.custom_transformers INFO     Calling the StemmingLemming transformer\n"
     ]
    }
   ],
   "source": [
    "porter = ct.StemmingLemming(prune_type=\"Porter\")\n",
    "portered_books = porter.transform(tokened_and_filtered_summaries)"
   ]
  },
  {
   "cell_type": "code",
   "execution_count": 9,
   "metadata": {},
   "outputs": [
    {
     "data": {
      "text/html": [
       "<div>\n",
       "<style scoped>\n",
       "    .dataframe tbody tr th:only-of-type {\n",
       "        vertical-align: middle;\n",
       "    }\n",
       "\n",
       "    .dataframe tbody tr th {\n",
       "        vertical-align: top;\n",
       "    }\n",
       "\n",
       "    .dataframe thead th {\n",
       "        text-align: right;\n",
       "    }\n",
       "</style>\n",
       "<table border=\"1\" class=\"dataframe\">\n",
       "  <thead>\n",
       "    <tr style=\"text-align: right;\">\n",
       "      <th></th>\n",
       "      <th>bookGenre</th>\n",
       "      <th>plotSum</th>\n",
       "    </tr>\n",
       "  </thead>\n",
       "  <tbody>\n",
       "    <tr>\n",
       "      <th>0</th>\n",
       "      <td>[roman_à_clef, satire, childrens_literature, s...</td>\n",
       "      <td>[old, major, old, boar, manor, farm, call, ani...</td>\n",
       "    </tr>\n",
       "    <tr>\n",
       "      <th>1</th>\n",
       "      <td>[science_fiction, novella, speculative_fiction...</td>\n",
       "      <td>[alex, teenag, live, nearfutur, england, lead,...</td>\n",
       "    </tr>\n",
       "    <tr>\n",
       "      <th>2</th>\n",
       "      <td>[existentialism, fiction, absurdist_fiction, n...</td>\n",
       "      <td>[text, plagu, divid, five, part, town, oran, t...</td>\n",
       "    </tr>\n",
       "  </tbody>\n",
       "</table>\n",
       "</div>"
      ],
      "text/plain": [
       "                                           bookGenre  \\\n",
       "0  [roman_à_clef, satire, childrens_literature, s...   \n",
       "1  [science_fiction, novella, speculative_fiction...   \n",
       "2  [existentialism, fiction, absurdist_fiction, n...   \n",
       "\n",
       "                                             plotSum  \n",
       "0  [old, major, old, boar, manor, farm, call, ani...  \n",
       "1  [alex, teenag, live, nearfutur, england, lead,...  \n",
       "2  [text, plagu, divid, five, part, town, oran, t...  "
      ]
     },
     "execution_count": 9,
     "metadata": {},
     "output_type": "execute_result"
    }
   ],
   "source": [
    "portered_books.head(3)"
   ]
  },
  {
   "cell_type": "code",
   "execution_count": 10,
   "metadata": {},
   "outputs": [
    {
     "name": "stderr",
     "output_type": "stream",
     "text": [
      "2019-06-12 22:15:26,140 data_manipulation.custom_transformers INFO     Calling the Joiner transformer\n"
     ]
    },
    {
     "data": {
      "text/html": [
       "<div>\n",
       "<style scoped>\n",
       "    .dataframe tbody tr th:only-of-type {\n",
       "        vertical-align: middle;\n",
       "    }\n",
       "\n",
       "    .dataframe tbody tr th {\n",
       "        vertical-align: top;\n",
       "    }\n",
       "\n",
       "    .dataframe thead th {\n",
       "        text-align: right;\n",
       "    }\n",
       "</style>\n",
       "<table border=\"1\" class=\"dataframe\">\n",
       "  <thead>\n",
       "    <tr style=\"text-align: right;\">\n",
       "      <th></th>\n",
       "      <th>bookGenre</th>\n",
       "      <th>plotSum</th>\n",
       "    </tr>\n",
       "  </thead>\n",
       "  <tbody>\n",
       "    <tr>\n",
       "      <th>0</th>\n",
       "      <td>[roman_à_clef, satire, childrens_literature, s...</td>\n",
       "      <td>old major old boar manor farm call anim farm m...</td>\n",
       "    </tr>\n",
       "    <tr>\n",
       "      <th>1</th>\n",
       "      <td>[science_fiction, novella, speculative_fiction...</td>\n",
       "      <td>alex teenag live nearfutur england lead gang n...</td>\n",
       "    </tr>\n",
       "    <tr>\n",
       "      <th>2</th>\n",
       "      <td>[existentialism, fiction, absurdist_fiction, n...</td>\n",
       "      <td>text plagu divid five part town oran thousand ...</td>\n",
       "    </tr>\n",
       "  </tbody>\n",
       "</table>\n",
       "</div>"
      ],
      "text/plain": [
       "                                           bookGenre  \\\n",
       "0  [roman_à_clef, satire, childrens_literature, s...   \n",
       "1  [science_fiction, novella, speculative_fiction...   \n",
       "2  [existentialism, fiction, absurdist_fiction, n...   \n",
       "\n",
       "                                             plotSum  \n",
       "0  old major old boar manor farm call anim farm m...  \n",
       "1  alex teenag live nearfutur england lead gang n...  \n",
       "2  text plagu divid five part town oran thousand ...  "
      ]
     },
     "execution_count": 10,
     "metadata": {},
     "output_type": "execute_result"
    }
   ],
   "source": [
    "joiner_transformer = ct.Joiner()\n",
    "joined_books = joiner_transformer.transform(portered_books)\n",
    "joined_books.head(3)"
   ]
  }
 ],
 "metadata": {
  "kernelspec": {
   "display_name": "AVC",
   "language": "python",
   "name": "avc"
  },
  "language_info": {
   "codemirror_mode": {
    "name": "ipython",
    "version": 3
   },
   "file_extension": ".py",
   "mimetype": "text/x-python",
   "name": "python",
   "nbconvert_exporter": "python",
   "pygments_lexer": "ipython3",
   "version": "3.7.3"
  }
 },
 "nbformat": 4,
 "nbformat_minor": 2
}
