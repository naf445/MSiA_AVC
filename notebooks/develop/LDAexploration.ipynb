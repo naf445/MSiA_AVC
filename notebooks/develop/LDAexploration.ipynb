{
 "cells": [
  {
   "cell_type": "code",
   "execution_count": 1,
   "metadata": {},
   "outputs": [],
   "source": [
    "import sys; sys.path.append('../../src/helpers')\n",
    "from data_manipulation import data\n",
    "import numpy as np\n",
    "import pandas as pd\n",
    "import pickle\n",
    "from sklearn.feature_extraction.text import CountVectorizer\n",
    "from sklearn.decomposition import LatentDirichletAllocation"
   ]
  },
  {
   "cell_type": "code",
   "execution_count": 2,
   "metadata": {},
   "outputs": [],
   "source": [
    "books = pd.read_csv('../../data/booksummaries/books_Porter_True.csv')"
   ]
  },
  {
   "cell_type": "code",
   "execution_count": 3,
   "metadata": {},
   "outputs": [
    {
     "data": {
      "text/html": [
       "<div>\n",
       "<style scoped>\n",
       "    .dataframe tbody tr th:only-of-type {\n",
       "        vertical-align: middle;\n",
       "    }\n",
       "\n",
       "    .dataframe tbody tr th {\n",
       "        vertical-align: top;\n",
       "    }\n",
       "\n",
       "    .dataframe thead th {\n",
       "        text-align: right;\n",
       "    }\n",
       "</style>\n",
       "<table border=\"1\" class=\"dataframe\">\n",
       "  <thead>\n",
       "    <tr style=\"text-align: right;\">\n",
       "      <th></th>\n",
       "      <th>bookGenre</th>\n",
       "      <th>plotSum</th>\n",
       "      <th>Drop</th>\n",
       "      <th>plotSum2vec</th>\n",
       "    </tr>\n",
       "  </thead>\n",
       "  <tbody>\n",
       "    <tr>\n",
       "      <th>0</th>\n",
       "      <td>['comedy', 'children', 'speculative_fiction', ...</td>\n",
       "      <td>old old boar manor farm call anim farm meet co...</td>\n",
       "      <td>False</td>\n",
       "      <td>[0.200577126220817, -0.07933575619857114, -0.1...</td>\n",
       "    </tr>\n",
       "    <tr>\n",
       "      <th>1</th>\n",
       "      <td>['science_fiction', 'fiction', 'speculative_fi...</td>\n",
       "      <td>teenag live nearfutur england lead gang nightl...</td>\n",
       "      <td>False</td>\n",
       "      <td>[0.18350660521234127, 0.06064006807343155, -0....</td>\n",
       "    </tr>\n",
       "    <tr>\n",
       "      <th>2</th>\n",
       "      <td>['existential_philosophy', 'fiction']</td>\n",
       "      <td>text plagu divid five part town oran thousand ...</td>\n",
       "      <td>False</td>\n",
       "      <td>[0.4374694909215338, 0.004273443157695797, -0....</td>\n",
       "    </tr>\n",
       "  </tbody>\n",
       "</table>\n",
       "</div>"
      ],
      "text/plain": [
       "                                           bookGenre  \\\n",
       "0  ['comedy', 'children', 'speculative_fiction', ...   \n",
       "1  ['science_fiction', 'fiction', 'speculative_fi...   \n",
       "2              ['existential_philosophy', 'fiction']   \n",
       "\n",
       "                                             plotSum   Drop  \\\n",
       "0  old old boar manor farm call anim farm meet co...  False   \n",
       "1  teenag live nearfutur england lead gang nightl...  False   \n",
       "2  text plagu divid five part town oran thousand ...  False   \n",
       "\n",
       "                                         plotSum2vec  \n",
       "0  [0.200577126220817, -0.07933575619857114, -0.1...  \n",
       "1  [0.18350660521234127, 0.06064006807343155, -0....  \n",
       "2  [0.4374694909215338, 0.004273443157695797, -0....  "
      ]
     },
     "execution_count": 3,
     "metadata": {},
     "output_type": "execute_result"
    }
   ],
   "source": [
    "books.head(3)"
   ]
  },
  {
   "cell_type": "code",
   "execution_count": 4,
   "metadata": {},
   "outputs": [
    {
     "data": {
      "text/plain": [
       "(12667,)"
      ]
     },
     "execution_count": 4,
     "metadata": {},
     "output_type": "execute_result"
    }
   ],
   "source": [
    "corpus = books.iloc[:,1]\n",
    "corpus.shape"
   ]
  },
  {
   "cell_type": "code",
   "execution_count": 5,
   "metadata": {},
   "outputs": [
    {
     "data": {
      "text/plain": [
       "0    old old boar manor farm call anim farm meet co...\n",
       "1    teenag live nearfutur england lead gang nightl...\n",
       "2    text plagu divid five part town oran thousand ...\n",
       "Name: plotSum, dtype: object"
      ]
     },
     "execution_count": 5,
     "metadata": {},
     "output_type": "execute_result"
    }
   ],
   "source": [
    "corpus.head(3)"
   ]
  },
  {
   "cell_type": "code",
   "execution_count": 6,
   "metadata": {},
   "outputs": [],
   "source": [
    "# get our documents into BOW style.\n",
    "tf_vectorizer = CountVectorizer(max_df=0.90, max_features=500)\n",
    "tf = tf_vectorizer.fit_transform(corpus)\n",
    "tf_feature_names = tf_vectorizer.get_feature_names()"
   ]
  },
  {
   "cell_type": "code",
   "execution_count": 7,
   "metadata": {},
   "outputs": [
    {
     "data": {
      "text/plain": [
       "['abandon',\n",
       " 'abil',\n",
       " 'abl',\n",
       " 'accept',\n",
       " 'across',\n",
       " 'act',\n",
       " 'action',\n",
       " 'actual',\n",
       " 'adventur',\n",
       " 'affair']"
      ]
     },
     "execution_count": 7,
     "metadata": {},
     "output_type": "execute_result"
    }
   ],
   "source": [
    "tf_feature_names[:10]"
   ]
  },
  {
   "cell_type": "code",
   "execution_count": 8,
   "metadata": {},
   "outputs": [
    {
     "data": {
      "text/plain": [
       "(12667, 500)"
      ]
     },
     "execution_count": 8,
     "metadata": {},
     "output_type": "execute_result"
    }
   ],
   "source": [
    "tf.shape"
   ]
  },
  {
   "cell_type": "code",
   "execution_count": 9,
   "metadata": {},
   "outputs": [
    {
     "name": "stderr",
     "output_type": "stream",
     "text": [
      "/anaconda3/envs/AVC/lib/python3.7/site-packages/sklearn/decomposition/online_lda.py:314: DeprecationWarning: n_topics has been renamed to n_components in version 0.19 and will be removed in 0.21\n",
      "  DeprecationWarning)\n"
     ]
    },
    {
     "data": {
      "text/plain": [
       "LatentDirichletAllocation(batch_size=128, doc_topic_prior=None,\n",
       "             evaluate_every=-1, learning_decay=0.7,\n",
       "             learning_method='online', learning_offset=50.0,\n",
       "             max_doc_update_iter=100, max_iter=5, mean_change_tol=0.001,\n",
       "             n_components=10, n_jobs=None, n_topics=20, perp_tol=0.1,\n",
       "             random_state=123, topic_word_prior=None,\n",
       "             total_samples=1000000.0, verbose=0)"
      ]
     },
     "execution_count": 9,
     "metadata": {},
     "output_type": "execute_result"
    }
   ],
   "source": [
    "# Run LDA\n",
    "lda = LatentDirichletAllocation(n_topics=20, max_iter=5, learning_method='online', learning_offset=50.,random_state=123)\n",
    "lda.fit(tf)"
   ]
  },
  {
   "cell_type": "code",
   "execution_count": 10,
   "metadata": {},
   "outputs": [],
   "source": [
    "def display_topics(model, feature_names, no_top_words):\n",
    "    for topic_idx, topic in enumerate(model.components_):\n",
    "        print(\"Topic: \"+ str(topic_idx))\n",
    "        print(\" \".join([feature_names[i]\n",
    "                        for i in topic.argsort()[:-no_top_words - 1:-1]]))"
   ]
  },
  {
   "cell_type": "code",
   "execution_count": 11,
   "metadata": {},
   "outputs": [
    {
     "name": "stdout",
     "output_type": "stream",
     "text": [
      "Topic: 0\n",
      "dog anim cat hunt human day name old food live home find one take kill walk two hous becom sleep\n",
      "Topic: 1\n",
      "vampir british england uncl blood boy kill becom turn return human set also friend soldier take help discov queen young\n",
      "Topic: 2\n",
      "mother father famili children school girl boy home sister parent hous live brother friend find year becom take child away\n",
      "Topic: 3\n",
      "life famili becom love new son wife live daughter young marri year novel begin husband death relationship father work die\n",
      "Topic: 4\n",
      "love leav tell return meet take day see ask marri one make visit father two give back come find later\n",
      "Topic: 5\n",
      "kill power battl dragon forc fight attack armi use help lord citi return find dark take one defeat death destroy\n",
      "Topic: 6\n",
      "kill agent team investig murder attempt discov new plan member escap inform reveal use assassin secret work one oper help\n",
      "Topic: 7\n",
      "ship island captain sea command take board rescu return one find escap captur two arriv back leav land attack water\n",
      "Topic: 8\n",
      "human earth planet alien space race system star destroy world one use new year univers time discov control becom power\n",
      "Topic: 9\n",
      "time world god travel peopl year find one live first past futur life die way becom must back new return\n",
      "Topic: 10\n",
      "peopl would one human use also chang person book mani even may societi could natur mind power form like bodi\n",
      "Topic: 11\n",
      "mr chapter mrs part miss four first book write letter two three one introduc time number last discuss describ make\n",
      "Topic: 12\n",
      "get go tell one find back say tri make want come see start day call take goe decid time like\n",
      "Topic: 13\n",
      "find kill escap doctor attack return group back take leav arriv dr tell one help meet discov two plan head\n",
      "Topic: 14\n",
      "book stori man villag name citi wolf one town adventur world call young set mysteri two find end live old\n",
      "Topic: 15\n",
      "murder hous polic find man tom kill found miss death investig one bodi day dead night suspect discov room call\n",
      "Topic: 16\n",
      "ladi parti sir lord compani polit societi plot young taken member love visit beauti letter old aid marriag includ soon\n",
      "Topic: 17\n",
      "magic queen white black game castl red dream world find play use one meet court way night make appear back\n",
      "Topic: 18\n",
      "novel stori charact book narrat includ first describ also event end main set life work follow two time begin plot\n",
      "Topic: 19\n",
      "war state unit forc armi american gener militari govern world soldier order offic empir attack new command polit battl countri\n"
     ]
    }
   ],
   "source": [
    "display_topics(lda, tf_feature_names, 20)"
   ]
  },
  {
   "cell_type": "code",
   "execution_count": 12,
   "metadata": {},
   "outputs": [],
   "source": [
    "corpus = ['''the magic man once gave me 100 dollars and then the dragon came and\n",
    "                swept me magically with magic off to the swords sword wizard'''] \n",
    "         #'''my best friend had my back growing up and my family was always \n",
    "             #there and i loved love them''']\n",
    "\n",
    "X_test = tf_vectorizer.transform(corpus)\n",
    "doc_topic_dist_unnormalized = np.matrix(lda.transform(X_test))\n",
    "\n",
    "# normalize the distribution (only needed if you want to work with the probabilities)\n",
    "doc_topic_dist = doc_topic_dist_unnormalized/doc_topic_dist_unnormalized.sum(axis=1)"
   ]
  },
  {
   "cell_type": "code",
   "execution_count": 13,
   "metadata": {},
   "outputs": [
    {
     "data": {
      "text/plain": [
       "<1x500 sparse matrix of type '<class 'numpy.int64'>'\n",
       "\twith 3 stored elements in Compressed Sparse Row format>"
      ]
     },
     "execution_count": 13,
     "metadata": {},
     "output_type": "execute_result"
    }
   ],
   "source": [
    "X_test"
   ]
  },
  {
   "cell_type": "code",
   "execution_count": 14,
   "metadata": {},
   "outputs": [
    {
     "data": {
      "text/plain": [
       "matrix([[0.01      , 0.01      , 0.01      , 0.01      , 0.01      ,\n",
       "         0.24977069, 0.01      , 0.01      , 0.01      , 0.01      ,\n",
       "         0.01      , 0.01      , 0.01      , 0.01      , 0.17066925,\n",
       "         0.01      , 0.01      , 0.40956006, 0.01      , 0.01      ]])"
      ]
     },
     "execution_count": 14,
     "metadata": {},
     "output_type": "execute_result"
    }
   ],
   "source": [
    "doc_topic_dist_unnormalized"
   ]
  },
  {
   "cell_type": "markdown",
   "metadata": {},
   "source": [
    "So now you've gotten it to where you've \"found\" topics based on your big corpus, by training your count_vectorizer and LDA model on the original big corpus, and then by entering new text you can get apply the same vectorization transform to them and then get an LDA score for each sentence in terms of the topics you've already found!"
   ]
  },
  {
   "cell_type": "code",
   "execution_count": null,
   "metadata": {},
   "outputs": [],
   "source": []
  },
  {
   "cell_type": "code",
   "execution_count": null,
   "metadata": {},
   "outputs": [],
   "source": []
  }
 ],
 "metadata": {
  "kernelspec": {
   "display_name": "AVC",
   "language": "python",
   "name": "avc"
  },
  "language_info": {
   "codemirror_mode": {
    "name": "ipython",
    "version": 3
   },
   "file_extension": ".py",
   "mimetype": "text/x-python",
   "name": "python",
   "nbconvert_exporter": "python",
   "pygments_lexer": "ipython3",
   "version": "3.7.3"
  }
 },
 "nbformat": 4,
 "nbformat_minor": 2
}
