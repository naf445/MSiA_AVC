{
 "cells": [
  {
   "cell_type": "code",
   "execution_count": 28,
   "metadata": {},
   "outputs": [],
   "source": [
    "import pandas as pd\n",
    "import numpy as np\n",
    "from sklearn.feature_extraction.text import CountVectorizer\n",
    "from sklearn.decomposition import LatentDirichletAllocation\n",
    "\n",
    "import sys; sys.path.append('../../src/helpers')\n",
    "from data_manipulation import data\n",
    "import pickle"
   ]
  },
  {
   "cell_type": "code",
   "execution_count": 2,
   "metadata": {},
   "outputs": [],
   "source": [
    "books = pd.read_csv('../../data/booksummaries/books_Porter_True.csv')"
   ]
  },
  {
   "cell_type": "code",
   "execution_count": 3,
   "metadata": {},
   "outputs": [
    {
     "data": {
      "text/html": [
       "<div>\n",
       "<style scoped>\n",
       "    .dataframe tbody tr th:only-of-type {\n",
       "        vertical-align: middle;\n",
       "    }\n",
       "\n",
       "    .dataframe tbody tr th {\n",
       "        vertical-align: top;\n",
       "    }\n",
       "\n",
       "    .dataframe thead th {\n",
       "        text-align: right;\n",
       "    }\n",
       "</style>\n",
       "<table border=\"1\" class=\"dataframe\">\n",
       "  <thead>\n",
       "    <tr style=\"text-align: right;\">\n",
       "      <th></th>\n",
       "      <th>bookGenre</th>\n",
       "      <th>plotSum</th>\n",
       "      <th>bookTitle</th>\n",
       "      <th>plotSum2vec</th>\n",
       "    </tr>\n",
       "  </thead>\n",
       "  <tbody>\n",
       "    <tr>\n",
       "      <th>0</th>\n",
       "      <td>['comedy', 'children', 'speculative_fiction', ...</td>\n",
       "      <td>old old boar manor farm call anim farm meet co...</td>\n",
       "      <td>Animal Farm</td>\n",
       "      <td>[ 0.1988665  -0.07466647 -0.14304179 -0.318821...</td>\n",
       "    </tr>\n",
       "    <tr>\n",
       "      <th>1</th>\n",
       "      <td>['science_fiction', 'fiction', 'speculative_fi...</td>\n",
       "      <td>teenag live nearfutur england lead gang nightl...</td>\n",
       "      <td>A Clockwork Orange</td>\n",
       "      <td>[ 1.83506605e-01  6.06400681e-02 -1.32821921e-...</td>\n",
       "    </tr>\n",
       "    <tr>\n",
       "      <th>2</th>\n",
       "      <td>['existential_philosophy', 'fiction', 'absurdi...</td>\n",
       "      <td>text plagu divid five part town oran thousand ...</td>\n",
       "      <td>The Plague</td>\n",
       "      <td>[ 0.437975    0.0055958  -0.09298557 -0.316397...</td>\n",
       "    </tr>\n",
       "  </tbody>\n",
       "</table>\n",
       "</div>"
      ],
      "text/plain": [
       "                                           bookGenre  \\\n",
       "0  ['comedy', 'children', 'speculative_fiction', ...   \n",
       "1  ['science_fiction', 'fiction', 'speculative_fi...   \n",
       "2  ['existential_philosophy', 'fiction', 'absurdi...   \n",
       "\n",
       "                                             plotSum           bookTitle  \\\n",
       "0  old old boar manor farm call anim farm meet co...         Animal Farm   \n",
       "1  teenag live nearfutur england lead gang nightl...  A Clockwork Orange   \n",
       "2  text plagu divid five part town oran thousand ...          The Plague   \n",
       "\n",
       "                                         plotSum2vec  \n",
       "0  [ 0.1988665  -0.07466647 -0.14304179 -0.318821...  \n",
       "1  [ 1.83506605e-01  6.06400681e-02 -1.32821921e-...  \n",
       "2  [ 0.437975    0.0055958  -0.09298557 -0.316397...  "
      ]
     },
     "execution_count": 3,
     "metadata": {},
     "output_type": "execute_result"
    }
   ],
   "source": [
    "books.head(3)"
   ]
  },
  {
   "cell_type": "code",
   "execution_count": 53,
   "metadata": {},
   "outputs": [
    {
     "data": {
      "text/plain": [
       "(12671,)"
      ]
     },
     "execution_count": 53,
     "metadata": {},
     "output_type": "execute_result"
    }
   ],
   "source": [
    "corpus = books.iloc[:,1]\n",
    "corpus.shape"
   ]
  },
  {
   "cell_type": "code",
   "execution_count": 54,
   "metadata": {},
   "outputs": [
    {
     "data": {
      "text/plain": [
       "0    old old boar manor farm call anim farm meet co...\n",
       "1    teenag live nearfutur england lead gang nightl...\n",
       "2    text plagu divid five part town oran thousand ...\n",
       "Name: plotSum, dtype: object"
      ]
     },
     "execution_count": 54,
     "metadata": {},
     "output_type": "execute_result"
    }
   ],
   "source": [
    "corpus.head(3)"
   ]
  },
  {
   "cell_type": "code",
   "execution_count": 55,
   "metadata": {},
   "outputs": [],
   "source": [
    "# get our documents into BOW style.\n",
    "tf_vectorizer = CountVectorizer(max_df=0.90, max_features=500)\n",
    "tf = tf_vectorizer.fit_transform(corpus)\n",
    "tf_feature_names = tf_vectorizer.get_feature_names()"
   ]
  },
  {
   "cell_type": "code",
   "execution_count": 56,
   "metadata": {},
   "outputs": [
    {
     "data": {
      "text/plain": [
       "['abandon',\n",
       " 'abil',\n",
       " 'abl',\n",
       " 'accept',\n",
       " 'across',\n",
       " 'act',\n",
       " 'action',\n",
       " 'actual',\n",
       " 'adventur',\n",
       " 'affair']"
      ]
     },
     "execution_count": 56,
     "metadata": {},
     "output_type": "execute_result"
    }
   ],
   "source": [
    "tf_feature_names[:10]"
   ]
  },
  {
   "cell_type": "code",
   "execution_count": 57,
   "metadata": {},
   "outputs": [
    {
     "data": {
      "text/plain": [
       "(12671, 500)"
      ]
     },
     "execution_count": 57,
     "metadata": {},
     "output_type": "execute_result"
    }
   ],
   "source": [
    "tf.shape"
   ]
  },
  {
   "cell_type": "code",
   "execution_count": 58,
   "metadata": {},
   "outputs": [
    {
     "name": "stderr",
     "output_type": "stream",
     "text": [
      "/anaconda3/envs/AVC/lib/python3.7/site-packages/sklearn/decomposition/online_lda.py:314: DeprecationWarning: n_topics has been renamed to n_components in version 0.19 and will be removed in 0.21\n",
      "  DeprecationWarning)\n"
     ]
    },
    {
     "data": {
      "text/plain": [
       "LatentDirichletAllocation(batch_size=128, doc_topic_prior=None,\n",
       "             evaluate_every=-1, learning_decay=0.7,\n",
       "             learning_method='online', learning_offset=50.0,\n",
       "             max_doc_update_iter=100, max_iter=5, mean_change_tol=0.001,\n",
       "             n_components=10, n_jobs=None, n_topics=20, perp_tol=0.1,\n",
       "             random_state=123, topic_word_prior=None,\n",
       "             total_samples=1000000.0, verbose=0)"
      ]
     },
     "execution_count": 58,
     "metadata": {},
     "output_type": "execute_result"
    }
   ],
   "source": [
    "# Run LDA\n",
    "lda = LatentDirichletAllocation(n_topics=20, max_iter=5, learning_method='online', learning_offset=50.,random_state=123)\n",
    "lda.fit(tf)"
   ]
  },
  {
   "cell_type": "code",
   "execution_count": 59,
   "metadata": {},
   "outputs": [],
   "source": [
    "def display_topics(model, feature_names, no_top_words):\n",
    "    for topic_idx, topic in enumerate(model.components_):\n",
    "        print(\"Topic: \"+ str(topic_idx))\n",
    "        print(\" \".join([feature_names[i]\n",
    "                        for i in topic.argsort()[:-no_top_words - 1:-1]]))"
   ]
  },
  {
   "cell_type": "code",
   "execution_count": 60,
   "metadata": {},
   "outputs": [
    {
     "name": "stdout",
     "output_type": "stream",
     "text": [
      "Topic: 0\n",
      "dog anim cat hunt human day name food old live find home one kill take leader hous becom two walk\n",
      "Topic: 1\n",
      "vampir british england sir uncl blood becom de kill turn return also lord friend take help set queen boy young\n",
      "Topic: 2\n",
      "mother father famili children school boy girl home sister parent hous live brother friend find year becom take child away\n",
      "Topic: 3\n",
      "life famili becom love son new wife live young daughter marri year novel begin husband death relationship work father die\n",
      "Topic: 4\n",
      "love tell leav return meet take day see ask marri one make visit two father back give come find later\n",
      "Topic: 5\n",
      "kill power battl dragon forc attack fight lord use armi help find return citi dark take one magic defeat death\n",
      "Topic: 6\n",
      "kill agent team investig murder attempt discov plan new escap member inform reveal use assassin work secret one help also\n",
      "Topic: 7\n",
      "ship island captain sea command take board rescu return one escap find captur two back arriv leav attack water land\n",
      "Topic: 8\n",
      "human earth planet alien space race system star destroy one world use new univers year time discov control becom power\n",
      "Topic: 9\n",
      "world time god peopl travel year find one live first past futur life way die must becom back new return\n",
      "Topic: 10\n",
      "peopl would one human also use chang person book mani even societi may natur could mind form like power differ\n",
      "Topic: 11\n",
      "mr chapter part miss four book first letter write two three one introduc describ discuss last time second number read\n",
      "Topic: 12\n",
      "get go tell one find back say tri want make come see start day call take goe decid time like\n",
      "Topic: 13\n",
      "find kill escap doctor attack return group back take dr arriv leav tell one help two meet discov head plan\n",
      "Topic: 14\n",
      "book man stori villag citi name wolf town one adventur call young set world mysteri two find boy end old\n",
      "Topic: 15\n",
      "murder hous polic find man tom kill death found investig miss one bodi day dead night suspect room call discov\n",
      "Topic: 16\n",
      "ladi mrs parti polit lord societi sir member visit young compani busi love beauti old soon taken includ countri wife\n",
      "Topic: 17\n",
      "magic queen white black game castl red dream play find world one use meet court night way make appear back\n",
      "Topic: 18\n",
      "novel stori charact book narrat includ first describ event also end main set life work plot follow two time begin\n",
      "Topic: 19\n",
      "war state unit forc armi american gener militari govern world soldier polit offic order new attack command empir battl countri\n"
     ]
    }
   ],
   "source": [
    "display_topics(lda, tf_feature_names, 20)"
   ]
  },
  {
   "cell_type": "code",
   "execution_count": 49,
   "metadata": {},
   "outputs": [],
   "source": [
    "corpus = ['''the magic man once gave me 100 dollars and then the dragon came and\n",
    "                swept me magically with magic off to the swords sword wizard''', \n",
    "         '''my best friend had my back growing up and my family was always \n",
    "             there and i loved love them''']\n",
    "\n",
    "X_test = tf_vectorizer.transform(corpus)\n",
    "doc_topic_dist_unnormalized = np.matrix(lda.transform(X_test))\n",
    "\n",
    "# normalize the distribution (only needed if you want to work with the probabilities)\n",
    "doc_topic_dist = doc_topic_dist_unnormalized/doc_topic_dist_unnormalized.sum(axis=1)"
   ]
  },
  {
   "cell_type": "code",
   "execution_count": 50,
   "metadata": {},
   "outputs": [
    {
     "data": {
      "text/plain": [
       "<2x10000 sparse matrix of type '<class 'numpy.int64'>'\n",
       "\twith 18 stored elements in Compressed Sparse Row format>"
      ]
     },
     "execution_count": 50,
     "metadata": {},
     "output_type": "execute_result"
    }
   ],
   "source": [
    "X_test"
   ]
  },
  {
   "cell_type": "code",
   "execution_count": 51,
   "metadata": {},
   "outputs": [
    {
     "data": {
      "text/plain": [
       "matrix([[0.00294118, 0.00294118, 0.16247232, 0.00294118, 0.35172802,\n",
       "         0.00294118, 0.00294118, 0.00294118, 0.00294118, 0.43579966,\n",
       "         0.00294118, 0.00294118, 0.00294118, 0.00294118, 0.00294118,\n",
       "         0.00294118, 0.00294118, 0.00294118, 0.00294118, 0.00294118],\n",
       "        [0.00625   , 0.00625   , 0.00625   , 0.00625   , 0.00625   ,\n",
       "         0.00625   , 0.00625   , 0.88125   , 0.00625   , 0.00625   ,\n",
       "         0.00625   , 0.00625   , 0.00625   , 0.00625   , 0.00625   ,\n",
       "         0.00625   , 0.00625   , 0.00625   , 0.00625   , 0.00625   ]])"
      ]
     },
     "execution_count": 51,
     "metadata": {},
     "output_type": "execute_result"
    }
   ],
   "source": [
    "doc_topic_dist_unnormalized"
   ]
  },
  {
   "cell_type": "code",
   "execution_count": 52,
   "metadata": {},
   "outputs": [
    {
     "data": {
      "text/plain": [
       "matrix([[0.00294118, 0.00294118, 0.16247232, 0.00294118, 0.35172802,\n",
       "         0.00294118, 0.00294118, 0.00294118, 0.00294118, 0.43579966,\n",
       "         0.00294118, 0.00294118, 0.00294118, 0.00294118, 0.00294118,\n",
       "         0.00294118, 0.00294118, 0.00294118, 0.00294118, 0.00294118],\n",
       "        [0.00625   , 0.00625   , 0.00625   , 0.00625   , 0.00625   ,\n",
       "         0.00625   , 0.00625   , 0.88125   , 0.00625   , 0.00625   ,\n",
       "         0.00625   , 0.00625   , 0.00625   , 0.00625   , 0.00625   ,\n",
       "         0.00625   , 0.00625   , 0.00625   , 0.00625   , 0.00625   ]])"
      ]
     },
     "execution_count": 52,
     "metadata": {},
     "output_type": "execute_result"
    }
   ],
   "source": [
    "doc_topic_dist"
   ]
  },
  {
   "cell_type": "markdown",
   "metadata": {},
   "source": [
    "So now you've gotten it to where you've \"found\" topics based on your big corpus, by training your count_vectorizer and LDA model on the original big corpus, and then by entering new text you can get apply the same vectorization transform to them and then get an LDA score for each sentence in terms of the topics you've already found!"
   ]
  },
  {
   "cell_type": "code",
   "execution_count": null,
   "metadata": {},
   "outputs": [],
   "source": []
  },
  {
   "cell_type": "code",
   "execution_count": null,
   "metadata": {},
   "outputs": [],
   "source": []
  }
 ],
 "metadata": {
  "kernelspec": {
   "display_name": "AVC",
   "language": "python",
   "name": "avc"
  },
  "language_info": {
   "codemirror_mode": {
    "name": "ipython",
    "version": 3
   },
   "file_extension": ".py",
   "mimetype": "text/x-python",
   "name": "python",
   "nbconvert_exporter": "python",
   "pygments_lexer": "ipython3",
   "version": "3.7.3"
  }
 },
 "nbformat": 4,
 "nbformat_minor": 2
}
