{
 "cells": [
  {
   "cell_type": "code",
   "execution_count": 91,
   "metadata": {},
   "outputs": [],
   "source": [
    "import pandas as pd\n",
    "import sys; sys.path.append('../../src/helpers')\n",
    "from data_manipulation import data\n",
    "from nltk import pos_tag, word_tokenize\n",
    "import nltk.chunk"
   ]
  },
  {
   "cell_type": "code",
   "execution_count": 93,
   "metadata": {},
   "outputs": [
    {
     "name": "stderr",
     "output_type": "stream",
     "text": [
      "2019-05-28 11:51:34,392 data_manipulation.data INFO     Called loadAndClean function\n",
      "2019-05-28 11:51:34,394 data_manipulation.data INFO     Read in booksummary data\n",
      "2019-05-28 11:51:35,043 data_manipulation.data INFO     Drop any NA's present in dataset under book genre or plot summary\n",
      "2019-05-28 11:51:35,737 data_manipulation.data INFO     returning booksummary data set\n"
     ]
    }
   ],
   "source": [
    "books = data.loadAndClean('../../data/booksummaries/booksummaries.txt')"
   ]
  },
  {
   "cell_type": "code",
   "execution_count": 94,
   "metadata": {},
   "outputs": [],
   "source": [
    "books = books.iloc[:1000, 6]"
   ]
  },
  {
   "cell_type": "code",
   "execution_count": 95,
   "metadata": {},
   "outputs": [],
   "source": [
    "example_corp = books[:10]"
   ]
  },
  {
   "cell_type": "code",
   "execution_count": 96,
   "metadata": {},
   "outputs": [
    {
     "data": {
      "text/plain": [
       "0      Old Major, the old boar on the Manor Farm, ca...\n",
       "1      Alex, a teenager living in near-future Englan...\n",
       "2      The text of The Plague is divided into five p...\n",
       "4      The novel posits that space around the Milky ...\n",
       "5      The book tells the story of Paul Bäumer, a Ge...\n",
       "6      Ged is a young boy on Gont, one of the larger...\n",
       "8      Living on Mars, Deckard is acting as a consul...\n",
       "9      Beginning several months after the events in ...\n",
       "15     The book of Job tells the story of an extreme...\n",
       "20     The story is told through the eyes of narrato...\n",
       "Name: plotSum, dtype: object"
      ]
     },
     "execution_count": 96,
     "metadata": {},
     "output_type": "execute_result"
    }
   ],
   "source": [
    "example_corp"
   ]
  },
  {
   "cell_type": "code",
   "execution_count": 97,
   "metadata": {},
   "outputs": [],
   "source": [
    "tokenized_example_corp = [word_tokenize(example_summary) for example_summary in example_corp]"
   ]
  },
  {
   "cell_type": "code",
   "execution_count": 104,
   "metadata": {},
   "outputs": [
    {
     "data": {
      "text/plain": [
       "['Old', 'Major', ',', 'the', 'old', 'boar', 'on', 'the', 'Manor', 'Farm']"
      ]
     },
     "execution_count": 104,
     "metadata": {},
     "output_type": "execute_result"
    }
   ],
   "source": [
    "tokenized_example_corp[0][:10]"
   ]
  },
  {
   "cell_type": "code",
   "execution_count": 105,
   "metadata": {},
   "outputs": [],
   "source": [
    "example_sentence = tokenized_example_corp[2]"
   ]
  },
  {
   "cell_type": "code",
   "execution_count": 106,
   "metadata": {},
   "outputs": [],
   "source": [
    "example_sentence = nltk.chunk.ne_chunk(pos_tag(example_sentence))"
   ]
  },
  {
   "cell_type": "code",
   "execution_count": 107,
   "metadata": {},
   "outputs": [],
   "source": [
    "names=[]\n",
    "for chunk in example_sentence:\n",
    "    if type(chunk) == nltk.tree.Tree:\n",
    "        if chunk.label() == 'PERSON':\n",
    "            names.append(' '.join([c[0] for c in chunk]))"
   ]
  },
  {
   "cell_type": "code",
   "execution_count": 108,
   "metadata": {},
   "outputs": [
    {
     "data": {
      "text/plain": [
       "['Bernard Rieux',\n",
       " 'Michel',\n",
       " 'Rieux',\n",
       " 'Raymond Rambert',\n",
       " 'Father Paneloux',\n",
       " 'Cottard',\n",
       " 'Jean Tarrou',\n",
       " 'Joseph Grand',\n",
       " 'Rambert',\n",
       " 'Tarrou',\n",
       " 'Rambert',\n",
       " 'Tarrou',\n",
       " 'Rieux',\n",
       " 'Cottard',\n",
       " 'Cottard',\n",
       " 'Tarrou',\n",
       " 'Gluck',\n",
       " 'Orpheus',\n",
       " 'Orpheus',\n",
       " 'Rambert',\n",
       " 'Castel',\n",
       " 'Othon',\n",
       " 'Paneloux',\n",
       " 'Rieux',\n",
       " 'Tarrou',\n",
       " 'Paneloux',\n",
       " 'Paneloux',\n",
       " 'Tarrou',\n",
       " 'Rambert',\n",
       " 'Othon',\n",
       " 'Othon',\n",
       " 'Tarrou',\n",
       " 'Grand',\n",
       " 'Rieux',\n",
       " 'Othon',\n",
       " 'Cottard',\n",
       " 'Rieux',\n",
       " 'Rambert',\n",
       " 'Rieux',\n",
       " 'Cottard',\n",
       " 'Grand',\n",
       " 'Rieux']"
      ]
     },
     "execution_count": 108,
     "metadata": {},
     "output_type": "execute_result"
    }
   ],
   "source": [
    "names"
   ]
  },
  {
   "cell_type": "markdown",
   "metadata": {},
   "source": [
    "long story short, it could be helpful for you to filter these names out. The downside is how long it takes to do so over the 12000 summaries.\n",
    "\n",
    "If you wanted to implement it, within you custom transformer that filters sentences, you could have some code like follows:  \n",
    "\n",
    "```python\n",
    "chunked_sentence = nltk.chunk.ne_chunk(pos_tag(tokenized_sentence))\n",
    "namesInSentence=[]\n",
    "for chunk in chunked_sentence:\n",
    "    if type(chunk) == nltk.tree.Tree:\n",
    "        if chunk.label() == 'PERSON':\n",
    "            namesInSentence.append(' '.join([c[0] for c in chunk]))\n",
    "```  \n",
    "\n",
    "Then you could have a `if` check when adding the `w` to your filtered sentence that filters it out!"
   ]
  },
  {
   "cell_type": "code",
   "execution_count": null,
   "metadata": {},
   "outputs": [],
   "source": []
  }
 ],
 "metadata": {
  "kernelspec": {
   "display_name": "AVC",
   "language": "python",
   "name": "avc"
  },
  "language_info": {
   "codemirror_mode": {
    "name": "ipython",
    "version": 3
   },
   "file_extension": ".py",
   "mimetype": "text/x-python",
   "name": "python",
   "nbconvert_exporter": "python",
   "pygments_lexer": "ipython3",
   "version": "3.7.3"
  }
 },
 "nbformat": 4,
 "nbformat_minor": 2
}
