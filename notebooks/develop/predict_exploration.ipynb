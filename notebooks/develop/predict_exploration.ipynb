{
 "cells": [
  {
   "cell_type": "code",
   "execution_count": 1,
   "metadata": {},
   "outputs": [
    {
     "name": "stderr",
     "output_type": "stream",
     "text": [
      "[nltk_data] Downloading package punkt to\n",
      "[nltk_data]     /Users/nathanfranklin/nltk_data...\n",
      "[nltk_data]   Package punkt is already up-to-date!\n",
      "[nltk_data] Downloading package stopwords to\n",
      "[nltk_data]     /Users/nathanfranklin/nltk_data...\n",
      "[nltk_data]   Package stopwords is already up-to-date!\n",
      "2019-06-12 22:03:21,292 summarizer.preprocessing.cleaner INFO     'pattern' package not found; tag filters are not available for English\n"
     ]
    }
   ],
   "source": [
    "import sys; sys.path.append('../../src/helpers')\n",
    "import ast\n",
    "import csv\n",
    "from data_manipulation import custom_transformers as ct\n",
    "import gensim.downloader as api\n",
    "import numpy as np\n",
    "import pandas as pd\n",
    "import pickle\n",
    "from sklearn.pipeline import Pipeline \n"
   ]
  },
  {
   "cell_type": "code",
   "execution_count": 2,
   "metadata": {},
   "outputs": [],
   "source": [
    "with open('../../models/RFC_deployment_model.pkl', 'rb') as file:  \n",
    "    rfc = pickle.load(file)"
   ]
  },
  {
   "cell_type": "code",
   "execution_count": 3,
   "metadata": {},
   "outputs": [],
   "source": [
    "user_input_plot_summary = '''This story is about a boy named Jim. \n",
    "Jim decided he wanted to be a pirate, but not just any pirate. No Jim\n",
    " wanted to be aQWDWQND space pirate. someone who had laser guns and could take his family across the universe\n",
    " and fight aliens 238 and protect his homeland from the evil aliens who were invading\n",
    " the solar XNIAMne system that he lived in. But d18x1m ncziomz nnwiMQ the year 19272672 far in the future nothin could have prepared jim for the fights and battles\n",
    " and stars and explosions and bombs and explodings that were coming his way.\n",
    " You will have to read more to find out what happened to Jim!'''"
   ]
  },
  {
   "cell_type": "code",
   "execution_count": 4,
   "metadata": {},
   "outputs": [
    {
     "data": {
      "text/plain": [
       "'This story is about a boy named Jim. \\nJim decided he wanted to be a pirate, but not just any pirate. No Jim\\n wanted to be aQWDWQND space pirate. someone who had laser guns and could take his family across the universe\\n and fight aliens 238 and protect his homeland from the evil aliens who were invading\\n the solar XNIAMne system that he lived in. But d18x1m ncziomz nnwiMQ the year 19272672 far in the future nothin could have prepared jim for the fights and battles\\n and stars and explosions and bombs and explodings that were coming his way.\\n You will have to read more to find out what happened to Jim!'"
      ]
     },
     "execution_count": 4,
     "metadata": {},
     "output_type": "execute_result"
    }
   ],
   "source": [
    "user_input_plot_summary"
   ]
  },
  {
   "cell_type": "code",
   "execution_count": 5,
   "metadata": {},
   "outputs": [],
   "source": [
    "new_entry_df = pd.DataFrame(data=[user_input_plot_summary], columns=['plotSum'])"
   ]
  },
  {
   "cell_type": "code",
   "execution_count": 6,
   "metadata": {},
   "outputs": [
    {
     "data": {
      "text/html": [
       "<div>\n",
       "<style scoped>\n",
       "    .dataframe tbody tr th:only-of-type {\n",
       "        vertical-align: middle;\n",
       "    }\n",
       "\n",
       "    .dataframe tbody tr th {\n",
       "        vertical-align: top;\n",
       "    }\n",
       "\n",
       "    .dataframe thead th {\n",
       "        text-align: right;\n",
       "    }\n",
       "</style>\n",
       "<table border=\"1\" class=\"dataframe\">\n",
       "  <thead>\n",
       "    <tr style=\"text-align: right;\">\n",
       "      <th></th>\n",
       "      <th>plotSum</th>\n",
       "    </tr>\n",
       "  </thead>\n",
       "  <tbody>\n",
       "    <tr>\n",
       "      <th>0</th>\n",
       "      <td>This story is about a boy named Jim. \\nJim dec...</td>\n",
       "    </tr>\n",
       "  </tbody>\n",
       "</table>\n",
       "</div>"
      ],
      "text/plain": [
       "                                             plotSum\n",
       "0  This story is about a boy named Jim. \\nJim dec..."
      ]
     },
     "execution_count": 6,
     "metadata": {},
     "output_type": "execute_result"
    }
   ],
   "source": [
    "new_entry_df"
   ]
  },
  {
   "cell_type": "code",
   "execution_count": 7,
   "metadata": {},
   "outputs": [
    {
     "name": "stderr",
     "output_type": "stream",
     "text": [
      "2019-06-12 22:03:24,017 gensim.models.utils_any2vec INFO     loading projection weights from /Users/nathanfranklin/gensim-data/glove-wiki-gigaword-50/glove-wiki-gigaword-50.gz\n",
      "/anaconda3/envs/AVC/lib/python3.7/site-packages/smart_open/smart_open_lib.py:398: UserWarning: This function is deprecated, use smart_open.open instead. See the migration notes for details: https://github.com/RaRe-Technologies/smart_open/blob/master/README.rst#migrating-to-the-new-open-function\n",
      "  'See the migration notes for details: %s' % _MIGRATION_NOTES_URL\n",
      "2019-06-12 22:03:58,794 gensim.models.utils_any2vec INFO     loaded (400000, 50) matrix from /Users/nathanfranklin/gensim-data/glove-wiki-gigaword-50/glove-wiki-gigaword-50.gz\n"
     ]
    }
   ],
   "source": [
    "word2vec_model = api.load(\"glove-wiki-gigaword-50\")"
   ]
  },
  {
   "cell_type": "code",
   "execution_count": 8,
   "metadata": {},
   "outputs": [],
   "source": [
    "with open('../../models/LDA_model.pkl', 'rb') as file:  \n",
    "    lda_model = pickle.load(file)\n",
    "    \n",
    "with open('../../models/tf_vect.pkl', 'rb') as file:  \n",
    "    tf_vect = pickle.load(file)"
   ]
  },
  {
   "cell_type": "code",
   "execution_count": 9,
   "metadata": {},
   "outputs": [
    {
     "name": "stderr",
     "output_type": "stream",
     "text": [
      "2019-06-12 22:03:58,894 data_manipulation.custom_transformers INFO     Calling the Tokenizer transformer\n",
      "2019-06-12 22:03:58,919 data_manipulation.custom_transformers INFO     Calling the filter sentence transformer\n",
      "2019-06-12 22:03:58,946 data_manipulation.custom_transformers INFO     Calling the StemmingLemming transformer\n",
      "2019-06-12 22:03:58,954 data_manipulation.custom_transformers INFO     Calling the Joiner transformer\n"
     ]
    }
   ],
   "source": [
    "steps = [('tokenizer', ct.Tokenizer()),\n",
    "                ('filterer', ct.Filter_sentence(filter_names=True)),\n",
    "                ('mean_words2vec_er',ct.MeanEmbeddingVectorizer(word2vec_model)),\n",
    "                ('pruner', ct.StemmingLemming(prune_type='Porter')),\n",
    "                ('joiner_transformer', ct.Joiner())]\n",
    "         \n",
    "pipeline = Pipeline(steps)\n",
    "cleaned_summary_w_w2vec = pipeline.transform(new_entry_df)"
   ]
  },
  {
   "cell_type": "code",
   "execution_count": 10,
   "metadata": {},
   "outputs": [
    {
     "data": {
      "text/html": [
       "<div>\n",
       "<style scoped>\n",
       "    .dataframe tbody tr th:only-of-type {\n",
       "        vertical-align: middle;\n",
       "    }\n",
       "\n",
       "    .dataframe tbody tr th {\n",
       "        vertical-align: top;\n",
       "    }\n",
       "\n",
       "    .dataframe thead th {\n",
       "        text-align: right;\n",
       "    }\n",
       "</style>\n",
       "<table border=\"1\" class=\"dataframe\">\n",
       "  <thead>\n",
       "    <tr style=\"text-align: right;\">\n",
       "      <th></th>\n",
       "      <th>plotSum</th>\n",
       "      <th>plotSum2vec</th>\n",
       "    </tr>\n",
       "  </thead>\n",
       "  <tbody>\n",
       "    <tr>\n",
       "      <th>0</th>\n",
       "      <td>stori boy name jim jim decid want pirat pirat ...</td>\n",
       "      <td>[0.32892950944471777, -0.04371063072201714, 0....</td>\n",
       "    </tr>\n",
       "  </tbody>\n",
       "</table>\n",
       "</div>"
      ],
      "text/plain": [
       "                                             plotSum  \\\n",
       "0  stori boy name jim jim decid want pirat pirat ...   \n",
       "\n",
       "                                         plotSum2vec  \n",
       "0  [0.32892950944471777, -0.04371063072201714, 0....  "
      ]
     },
     "execution_count": 10,
     "metadata": {},
     "output_type": "execute_result"
    }
   ],
   "source": [
    "cleaned_summary_w_w2vec"
   ]
  },
  {
   "cell_type": "code",
   "execution_count": 11,
   "metadata": {},
   "outputs": [],
   "source": [
    "lda_transformer = ct.LDA_Vectorizer(lda_model, tf_vect)"
   ]
  },
  {
   "cell_type": "code",
   "execution_count": 12,
   "metadata": {},
   "outputs": [
    {
     "name": "stderr",
     "output_type": "stream",
     "text": [
      "2019-06-12 22:03:59,021 data_manipulation.custom_transformers INFO     Calling the LDA transformer\n"
     ]
    }
   ],
   "source": [
    "prediction_DF = lda_transformer.transform(cleaned_summary_w_w2vec)"
   ]
  },
  {
   "cell_type": "code",
   "execution_count": 13,
   "metadata": {},
   "outputs": [
    {
     "data": {
      "text/html": [
       "<div>\n",
       "<style scoped>\n",
       "    .dataframe tbody tr th:only-of-type {\n",
       "        vertical-align: middle;\n",
       "    }\n",
       "\n",
       "    .dataframe tbody tr th {\n",
       "        vertical-align: top;\n",
       "    }\n",
       "\n",
       "    .dataframe thead th {\n",
       "        text-align: right;\n",
       "    }\n",
       "</style>\n",
       "<table border=\"1\" class=\"dataframe\">\n",
       "  <thead>\n",
       "    <tr style=\"text-align: right;\">\n",
       "      <th></th>\n",
       "      <th>plotSum</th>\n",
       "      <th>plotSum2vec</th>\n",
       "      <th>plotSumLDA</th>\n",
       "    </tr>\n",
       "  </thead>\n",
       "  <tbody>\n",
       "    <tr>\n",
       "      <th>0</th>\n",
       "      <td>stori boy name jim jim decid want pirat pirat ...</td>\n",
       "      <td>[0.32892950944471777, -0.04371063072201714, 0....</td>\n",
       "      <td>[[0.0010000000373910525, 0.0010000000214915638...</td>\n",
       "    </tr>\n",
       "  </tbody>\n",
       "</table>\n",
       "</div>"
      ],
      "text/plain": [
       "                                             plotSum  \\\n",
       "0  stori boy name jim jim decid want pirat pirat ...   \n",
       "\n",
       "                                         plotSum2vec  \\\n",
       "0  [0.32892950944471777, -0.04371063072201714, 0....   \n",
       "\n",
       "                                          plotSumLDA  \n",
       "0  [[0.0010000000373910525, 0.0010000000214915638...  "
      ]
     },
     "execution_count": 13,
     "metadata": {},
     "output_type": "execute_result"
    }
   ],
   "source": [
    "prediction_DF"
   ]
  },
  {
   "cell_type": "code",
   "execution_count": 14,
   "metadata": {},
   "outputs": [],
   "source": [
    "plotSumLDA_list = prediction_DF['plotSumLDA'].values[0][0]\n",
    "plotSumLDA_DF = pd.DataFrame([plotSumLDA_list])"
   ]
  },
  {
   "cell_type": "code",
   "execution_count": 15,
   "metadata": {},
   "outputs": [],
   "source": [
    "plotSumVecList = prediction_DF['plotSum2vec'].values[0]\n",
    "plotSumVecs_DF = pd.DataFrame([plotSumVecList])"
   ]
  },
  {
   "cell_type": "code",
   "execution_count": 16,
   "metadata": {},
   "outputs": [
    {
     "name": "stdout",
     "output_type": "stream",
     "text": [
      "(1, 20)\n",
      "(1, 50)\n"
     ]
    }
   ],
   "source": [
    "print(plotSumLDA_DF.shape)\n",
    "print(plotSumVecs_DF.shape)"
   ]
  },
  {
   "cell_type": "code",
   "execution_count": 17,
   "metadata": {},
   "outputs": [],
   "source": [
    "newColsWord2vec = []\n",
    "for columnIndex in range(len(plotSumVecs_DF.columns)):\n",
    "    newColsWord2vec.append('word2vec_'+str(columnIndex+1))\n",
    "plotSumVecs_DF.columns = newColsWord2vec\n",
    "\n",
    "newColsLDA = []\n",
    "for columnIndex in range(len(plotSumLDA_DF.columns)):\n",
    "    newColsLDA.append('LDA_'+str(columnIndex+1))\n",
    "plotSumLDA_DF.columns = newColsLDA\n",
    "\n",
    "X = pd.concat([plotSumLDA_DF,plotSumVecs_DF], axis=1)"
   ]
  },
  {
   "cell_type": "code",
   "execution_count": 18,
   "metadata": {},
   "outputs": [
    {
     "data": {
      "text/html": [
       "<div>\n",
       "<style scoped>\n",
       "    .dataframe tbody tr th:only-of-type {\n",
       "        vertical-align: middle;\n",
       "    }\n",
       "\n",
       "    .dataframe tbody tr th {\n",
       "        vertical-align: top;\n",
       "    }\n",
       "\n",
       "    .dataframe thead th {\n",
       "        text-align: right;\n",
       "    }\n",
       "</style>\n",
       "<table border=\"1\" class=\"dataframe\">\n",
       "  <thead>\n",
       "    <tr style=\"text-align: right;\">\n",
       "      <th></th>\n",
       "      <th>LDA_1</th>\n",
       "      <th>LDA_2</th>\n",
       "      <th>LDA_3</th>\n",
       "      <th>LDA_4</th>\n",
       "      <th>LDA_5</th>\n",
       "      <th>LDA_6</th>\n",
       "      <th>LDA_7</th>\n",
       "      <th>LDA_8</th>\n",
       "      <th>LDA_9</th>\n",
       "      <th>LDA_10</th>\n",
       "      <th>...</th>\n",
       "      <th>word2vec_41</th>\n",
       "      <th>word2vec_42</th>\n",
       "      <th>word2vec_43</th>\n",
       "      <th>word2vec_44</th>\n",
       "      <th>word2vec_45</th>\n",
       "      <th>word2vec_46</th>\n",
       "      <th>word2vec_47</th>\n",
       "      <th>word2vec_48</th>\n",
       "      <th>word2vec_49</th>\n",
       "      <th>word2vec_50</th>\n",
       "    </tr>\n",
       "  </thead>\n",
       "  <tbody>\n",
       "    <tr>\n",
       "      <th>0</th>\n",
       "      <td>0.001</td>\n",
       "      <td>0.001</td>\n",
       "      <td>0.001</td>\n",
       "      <td>0.001</td>\n",
       "      <td>0.001</td>\n",
       "      <td>0.001</td>\n",
       "      <td>0.001</td>\n",
       "      <td>0.270824</td>\n",
       "      <td>0.189065</td>\n",
       "      <td>0.171577</td>\n",
       "      <td>...</td>\n",
       "      <td>-0.141457</td>\n",
       "      <td>0.15074</td>\n",
       "      <td>0.046191</td>\n",
       "      <td>0.11809</td>\n",
       "      <td>0.095982</td>\n",
       "      <td>0.064091</td>\n",
       "      <td>-0.150027</td>\n",
       "      <td>-0.263996</td>\n",
       "      <td>-0.146851</td>\n",
       "      <td>0.083161</td>\n",
       "    </tr>\n",
       "  </tbody>\n",
       "</table>\n",
       "<p>1 rows × 70 columns</p>\n",
       "</div>"
      ],
      "text/plain": [
       "   LDA_1  LDA_2  LDA_3  LDA_4  LDA_5  LDA_6  LDA_7     LDA_8     LDA_9  \\\n",
       "0  0.001  0.001  0.001  0.001  0.001  0.001  0.001  0.270824  0.189065   \n",
       "\n",
       "     LDA_10  ...  word2vec_41  word2vec_42  word2vec_43  word2vec_44  \\\n",
       "0  0.171577  ...    -0.141457      0.15074     0.046191      0.11809   \n",
       "\n",
       "   word2vec_45  word2vec_46  word2vec_47  word2vec_48  word2vec_49  \\\n",
       "0     0.095982     0.064091    -0.150027    -0.263996    -0.146851   \n",
       "\n",
       "   word2vec_50  \n",
       "0     0.083161  \n",
       "\n",
       "[1 rows x 70 columns]"
      ]
     },
     "execution_count": 18,
     "metadata": {},
     "output_type": "execute_result"
    }
   ],
   "source": [
    "X"
   ]
  },
  {
   "cell_type": "code",
   "execution_count": 19,
   "metadata": {},
   "outputs": [],
   "source": [
    "predicted_probs = rfc.predict_proba(X)"
   ]
  },
  {
   "cell_type": "code",
   "execution_count": 20,
   "metadata": {},
   "outputs": [
    {
     "data": {
      "text/plain": [
       "[0.08,\n",
       " 0.0,\n",
       " 0.0,\n",
       " 0.24,\n",
       " 0.05,\n",
       " 0.07,\n",
       " 0.0,\n",
       " 0.22,\n",
       " 0.31,\n",
       " 0.0,\n",
       " 0.05,\n",
       " 0.01,\n",
       " 0.0,\n",
       " 0.0,\n",
       " 0.0,\n",
       " 0.0,\n",
       " 0.0,\n",
       " 0.54,\n",
       " 0.42,\n",
       " 0.0,\n",
       " 0.06,\n",
       " 0.0,\n",
       " 0.0,\n",
       " 0.0,\n",
       " 0.18]"
      ]
     },
     "execution_count": 20,
     "metadata": {},
     "output_type": "execute_result"
    }
   ],
   "source": [
    "list(predicted_probs[0])"
   ]
  },
  {
   "cell_type": "code",
   "execution_count": 21,
   "metadata": {},
   "outputs": [],
   "source": [
    "with open('../../models/genre_names.csv', 'r') as f:\n",
    "    reader = csv.reader(f)\n",
    "    your_list = list(reader)[0]"
   ]
  },
  {
   "cell_type": "code",
   "execution_count": 22,
   "metadata": {},
   "outputs": [
    {
     "data": {
      "text/plain": [
       "['adventure',\n",
       " 'anthol_biog_autobiog',\n",
       " 'chick_lit',\n",
       " 'children',\n",
       " 'comedy',\n",
       " 'crime_fiction',\n",
       " 'existential_philosophy',\n",
       " 'fantasy',\n",
       " 'fiction',\n",
       " 'historical_fiction',\n",
       " 'horror',\n",
       " 'informational',\n",
       " 'lgbt',\n",
       " 'non_fiction_lit',\n",
       " 'realistic_fiction',\n",
       " 'religious',\n",
       " 'romance',\n",
       " 'science_fiction',\n",
       " 'speculative_fiction',\n",
       " 'sports',\n",
       " 'suspense/thriller/spy',\n",
       " 'true_crime',\n",
       " 'war',\n",
       " 'western',\n",
       " 'young_adult']"
      ]
     },
     "execution_count": 22,
     "metadata": {},
     "output_type": "execute_result"
    }
   ],
   "source": [
    "your_list"
   ]
  },
  {
   "cell_type": "code",
   "execution_count": 23,
   "metadata": {},
   "outputs": [],
   "source": [
    "from scoring import score_user_input"
   ]
  },
  {
   "cell_type": "code",
   "execution_count": null,
   "metadata": {},
   "outputs": [],
   "source": []
  },
  {
   "cell_type": "code",
   "execution_count": null,
   "metadata": {},
   "outputs": [],
   "source": []
  },
  {
   "cell_type": "code",
   "execution_count": null,
   "metadata": {},
   "outputs": [],
   "source": []
  }
 ],
 "metadata": {
  "kernelspec": {
   "display_name": "AVC",
   "language": "python",
   "name": "avc"
  },
  "language_info": {
   "codemirror_mode": {
    "name": "ipython",
    "version": 3
   },
   "file_extension": ".py",
   "mimetype": "text/x-python",
   "name": "python",
   "nbconvert_exporter": "python",
   "pygments_lexer": "ipython3",
   "version": "3.7.3"
  }
 },
 "nbformat": 4,
 "nbformat_minor": 2
}
