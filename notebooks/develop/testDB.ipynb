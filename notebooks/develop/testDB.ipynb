{
 "cells": [
  {
   "cell_type": "code",
   "execution_count": 1,
   "metadata": {},
   "outputs": [],
   "source": [
    "import argparse\n",
    "import logging\n",
    "import logging.config\n",
    "import os\n",
    "import pandas as pd\n",
    "from sqlalchemy.orm import sessionmaker\n",
    "from sqlalchemy.ext.declarative import declarative_base \n",
    "from sqlalchemy import Column, Integer, String, MetaData, DateTime\n",
    "import sqlalchemy as sql"
   ]
  },
  {
   "cell_type": "code",
   "execution_count": 15,
   "metadata": {},
   "outputs": [],
   "source": [
    "Base = declarative_base()\n",
    "\n",
    "class user_interaction(Base):\n",
    "    \"\"\"Create a data model for the database to be set up for capturing user input and model predictions\"\"\"\n",
    "    __tablename__ = 'user_interaction'\n",
    "    interaction_id = Column(Integer, primary_key=True)\n",
    "    date = Column(DateTime, unique=False, nullable=False)\n",
    "    plot_summary = Column(String(1000), unique=False, nullable=False)\n",
    "    model_results = Column(String(50), unique=False, nullable=False)\n",
    "    user_satisfaction = Column(String(50), unique=False, nullable=False)\n",
    "\n",
    "\n",
    "\n",
    "def create_db(user='', password='', host='', port='', USE_RDS=False):\n",
    "\n",
    "\tif config['USE_RDS'] == True:\n",
    "\t\tconn_type = \"mysql+pymysql\"\n",
    "\t\tuser = user\n",
    "\t\tpassword = password\n",
    "\t\thost = host\n",
    "\t\tport = port\n",
    "\t\tdatabase_name = 'genre_app'\n",
    "\t\tengine_string = \"{}://{}:{}@{}:{}/{}\".\\\n",
    "\t\tformat(conn_type, user, password, host, port, database_name)\n",
    "\t\tengine = sql.create_engine(engine_string)\n",
    "\t\tBase.metadata.create_all(engine)\n",
    "\n",
    "\t\t# create a db session\n",
    "\t\tSession = sessionmaker(bind=engine)  \n",
    "\t\tsession = Session()\n",
    "\t\tsession.commit()\n",
    "\t\tsession.close()\n",
    "\t\treturn engine_string\n",
    "\n",
    "\telse:\n",
    "\t\t# set up sqlite connection\n",
    "\t\tdatabase_name = 'genre_app'\n",
    "\t\tengine_string = 'sqlite:///'+directory_abs_path+'/../data/'+database_name+'.db'\n",
    "\t\tengine = sql.create_engine(engine_string)\n",
    "\t\tBase.metadata.create_all(engine)\n",
    "\n",
    "\t\t# create a db session\n",
    "\t\tSession = sessionmaker(bind=engine)  \n",
    "\t\tsession = Session()\n",
    "\t\tsession.commit()\n",
    "\t\tsession.close()\n",
    "\t\treturn engine_string\n",
    "\n",
    "def add_track(engine_string, interaction_id, timestamp, plot_summary, model_results, user_satisfaction):\n",
    "\n",
    "    session = get_session(engine_string=engine_string)\n",
    "\n",
    "    user_interaction_1 = user_interaction(interaction_id=interaction_id,date=date, plot_summary=plot_summary,\\\n",
    "     model_results=model_results, user_satisfaction=user_satisfaction)\n",
    "    \n",
    "    session.add(user_interaction_1)\n",
    "\n",
    "    session.commit()\n",
    "\n",
    "    logger.info(\"User interaction information added to database\")"
   ]
  },
  {
   "cell_type": "code",
   "execution_count": 16,
   "metadata": {},
   "outputs": [
    {
     "ename": "NameError",
     "evalue": "name 'config' is not defined",
     "output_type": "error",
     "traceback": [
      "\u001b[0;31m---------------------------------------------------------------------------\u001b[0m",
      "\u001b[0;31mNameError\u001b[0m                                 Traceback (most recent call last)",
      "\u001b[0;32m<ipython-input-16-ed2a660c2f47>\u001b[0m in \u001b[0;36m<module>\u001b[0;34m\u001b[0m\n\u001b[0;32m----> 1\u001b[0;31m \u001b[0mcreate_db\u001b[0m\u001b[0;34m(\u001b[0m\u001b[0mUSE_RDS\u001b[0m\u001b[0;34m=\u001b[0m\u001b[0;32mFalse\u001b[0m\u001b[0;34m)\u001b[0m\u001b[0;34m\u001b[0m\u001b[0;34m\u001b[0m\u001b[0m\n\u001b[0m",
      "\u001b[0;32m<ipython-input-15-d97e3c8eb096>\u001b[0m in \u001b[0;36mcreate_db\u001b[0;34m(user, password, host, port, USE_RDS)\u001b[0m\n\u001b[1;32m     14\u001b[0m \u001b[0;32mdef\u001b[0m \u001b[0mcreate_db\u001b[0m\u001b[0;34m(\u001b[0m\u001b[0muser\u001b[0m\u001b[0;34m=\u001b[0m\u001b[0;34m''\u001b[0m\u001b[0;34m,\u001b[0m \u001b[0mpassword\u001b[0m\u001b[0;34m=\u001b[0m\u001b[0;34m''\u001b[0m\u001b[0;34m,\u001b[0m \u001b[0mhost\u001b[0m\u001b[0;34m=\u001b[0m\u001b[0;34m''\u001b[0m\u001b[0;34m,\u001b[0m \u001b[0mport\u001b[0m\u001b[0;34m=\u001b[0m\u001b[0;34m''\u001b[0m\u001b[0;34m,\u001b[0m \u001b[0mUSE_RDS\u001b[0m\u001b[0;34m=\u001b[0m\u001b[0;32mFalse\u001b[0m\u001b[0;34m)\u001b[0m\u001b[0;34m:\u001b[0m\u001b[0;34m\u001b[0m\u001b[0;34m\u001b[0m\u001b[0m\n\u001b[1;32m     15\u001b[0m \u001b[0;34m\u001b[0m\u001b[0m\n\u001b[0;32m---> 16\u001b[0;31m         \u001b[0;32mif\u001b[0m \u001b[0mconfig\u001b[0m\u001b[0;34m[\u001b[0m\u001b[0;34m'USE_RDS'\u001b[0m\u001b[0;34m]\u001b[0m \u001b[0;34m==\u001b[0m \u001b[0;32mTrue\u001b[0m\u001b[0;34m:\u001b[0m\u001b[0;34m\u001b[0m\u001b[0;34m\u001b[0m\u001b[0m\n\u001b[0m\u001b[1;32m     17\u001b[0m                 \u001b[0mconn_type\u001b[0m \u001b[0;34m=\u001b[0m \u001b[0;34m\"mysql+pymysql\"\u001b[0m\u001b[0;34m\u001b[0m\u001b[0;34m\u001b[0m\u001b[0m\n\u001b[1;32m     18\u001b[0m                 \u001b[0muser\u001b[0m \u001b[0;34m=\u001b[0m \u001b[0muser\u001b[0m\u001b[0;34m\u001b[0m\u001b[0;34m\u001b[0m\u001b[0m\n",
      "\u001b[0;31mNameError\u001b[0m: name 'config' is not defined"
     ]
    }
   ],
   "source": [
    "create_db(USE_RDS=False)"
   ]
  },
  {
   "cell_type": "code",
   "execution_count": null,
   "metadata": {},
   "outputs": [],
   "source": []
  }
 ],
 "metadata": {
  "kernelspec": {
   "display_name": "AVC",
   "language": "python",
   "name": "avc"
  },
  "language_info": {
   "codemirror_mode": {
    "name": "ipython",
    "version": 3
   },
   "file_extension": ".py",
   "mimetype": "text/x-python",
   "name": "python",
   "nbconvert_exporter": "python",
   "pygments_lexer": "ipython3",
   "version": "3.7.3"
  }
 },
 "nbformat": 4,
 "nbformat_minor": 2
}
