{
 "cells": [
  {
   "cell_type": "code",
   "execution_count": 1,
   "metadata": {},
   "outputs": [],
   "source": [
    "import sys; sys.path.append('../custom_python_packages')\n",
    "from data_manipulation import data\n",
    "from data_manipulation import custom_transformers as ct"
   ]
  },
  {
   "cell_type": "code",
   "execution_count": 2,
   "metadata": {},
   "outputs": [],
   "source": [
    "books = data.loadAndClean('../../data/booksummaries/booksummaries.txt')\n",
    "books = books[['bookGenre', 'plotSum', 'bookTitle']]"
   ]
  },
  {
   "cell_type": "code",
   "execution_count": 3,
   "metadata": {},
   "outputs": [
    {
     "data": {
      "text/html": [
       "<div>\n",
       "<style scoped>\n",
       "    .dataframe tbody tr th:only-of-type {\n",
       "        vertical-align: middle;\n",
       "    }\n",
       "\n",
       "    .dataframe tbody tr th {\n",
       "        vertical-align: top;\n",
       "    }\n",
       "\n",
       "    .dataframe thead th {\n",
       "        text-align: right;\n",
       "    }\n",
       "</style>\n",
       "<table border=\"1\" class=\"dataframe\">\n",
       "  <thead>\n",
       "    <tr style=\"text-align: right;\">\n",
       "      <th></th>\n",
       "      <th>bookGenre</th>\n",
       "      <th>plotSum</th>\n",
       "      <th>bookTitle</th>\n",
       "    </tr>\n",
       "  </thead>\n",
       "  <tbody>\n",
       "    <tr>\n",
       "      <th>0</th>\n",
       "      <td>[roman_à_clef, satire, childrens_literature, s...</td>\n",
       "      <td>Old Major, the old boar on the Manor Farm, ca...</td>\n",
       "      <td>Animal Farm</td>\n",
       "    </tr>\n",
       "    <tr>\n",
       "      <th>1</th>\n",
       "      <td>[science_fiction, novella, speculative_fiction...</td>\n",
       "      <td>Alex, a teenager living in near-future Englan...</td>\n",
       "      <td>A Clockwork Orange</td>\n",
       "    </tr>\n",
       "    <tr>\n",
       "      <th>2</th>\n",
       "      <td>[existentialism, fiction, absurdist_fiction, n...</td>\n",
       "      <td>The text of The Plague is divided into five p...</td>\n",
       "      <td>The Plague</td>\n",
       "    </tr>\n",
       "  </tbody>\n",
       "</table>\n",
       "</div>"
      ],
      "text/plain": [
       "                                           bookGenre  \\\n",
       "0  [roman_à_clef, satire, childrens_literature, s...   \n",
       "1  [science_fiction, novella, speculative_fiction...   \n",
       "2  [existentialism, fiction, absurdist_fiction, n...   \n",
       "\n",
       "                                             plotSum           bookTitle  \n",
       "0   Old Major, the old boar on the Manor Farm, ca...         Animal Farm  \n",
       "1   Alex, a teenager living in near-future Englan...  A Clockwork Orange  \n",
       "2   The text of The Plague is divided into five p...          The Plague  "
      ]
     },
     "execution_count": 3,
     "metadata": {},
     "output_type": "execute_result"
    }
   ],
   "source": [
    "books.head(3)"
   ]
  },
  {
   "cell_type": "code",
   "execution_count": 4,
   "metadata": {},
   "outputs": [
    {
     "data": {
      "text/html": [
       "<div>\n",
       "<style scoped>\n",
       "    .dataframe tbody tr th:only-of-type {\n",
       "        vertical-align: middle;\n",
       "    }\n",
       "\n",
       "    .dataframe tbody tr th {\n",
       "        vertical-align: top;\n",
       "    }\n",
       "\n",
       "    .dataframe thead th {\n",
       "        text-align: right;\n",
       "    }\n",
       "</style>\n",
       "<table border=\"1\" class=\"dataframe\">\n",
       "  <thead>\n",
       "    <tr style=\"text-align: right;\">\n",
       "      <th></th>\n",
       "      <th>bookGenre</th>\n",
       "      <th>plotSum</th>\n",
       "      <th>bookTitle</th>\n",
       "    </tr>\n",
       "  </thead>\n",
       "  <tbody>\n",
       "    <tr>\n",
       "      <th>0</th>\n",
       "      <td>[roman_à_clef, satire, childrens_literature, s...</td>\n",
       "      <td>[Old, Major, ,, the, old, boar, on, the, Manor...</td>\n",
       "      <td>Animal Farm</td>\n",
       "    </tr>\n",
       "    <tr>\n",
       "      <th>1</th>\n",
       "      <td>[science_fiction, novella, speculative_fiction...</td>\n",
       "      <td>[Alex, ,, a, teenager, living, in, near-future...</td>\n",
       "      <td>A Clockwork Orange</td>\n",
       "    </tr>\n",
       "    <tr>\n",
       "      <th>2</th>\n",
       "      <td>[existentialism, fiction, absurdist_fiction, n...</td>\n",
       "      <td>[The, text, of, The, Plague, is, divided, into...</td>\n",
       "      <td>The Plague</td>\n",
       "    </tr>\n",
       "  </tbody>\n",
       "</table>\n",
       "</div>"
      ],
      "text/plain": [
       "                                           bookGenre  \\\n",
       "0  [roman_à_clef, satire, childrens_literature, s...   \n",
       "1  [science_fiction, novella, speculative_fiction...   \n",
       "2  [existentialism, fiction, absurdist_fiction, n...   \n",
       "\n",
       "                                             plotSum           bookTitle  \n",
       "0  [Old, Major, ,, the, old, boar, on, the, Manor...         Animal Farm  \n",
       "1  [Alex, ,, a, teenager, living, in, near-future...  A Clockwork Orange  \n",
       "2  [The, text, of, The, Plague, is, divided, into...          The Plague  "
      ]
     },
     "execution_count": 4,
     "metadata": {},
     "output_type": "execute_result"
    }
   ],
   "source": [
    "tokenizer = ct.Tokenizer()\n",
    "tokenized_books = tokenizer.transform(books)\n",
    "tokenized_books.head(3)"
   ]
  },
  {
   "cell_type": "code",
   "execution_count": 5,
   "metadata": {},
   "outputs": [
    {
     "data": {
      "text/html": [
       "<div>\n",
       "<style scoped>\n",
       "    .dataframe tbody tr th:only-of-type {\n",
       "        vertical-align: middle;\n",
       "    }\n",
       "\n",
       "    .dataframe tbody tr th {\n",
       "        vertical-align: top;\n",
       "    }\n",
       "\n",
       "    .dataframe thead th {\n",
       "        text-align: right;\n",
       "    }\n",
       "</style>\n",
       "<table border=\"1\" class=\"dataframe\">\n",
       "  <thead>\n",
       "    <tr style=\"text-align: right;\">\n",
       "      <th></th>\n",
       "      <th>bookGenre</th>\n",
       "      <th>plotSum</th>\n",
       "      <th>bookTitle</th>\n",
       "    </tr>\n",
       "  </thead>\n",
       "  <tbody>\n",
       "    <tr>\n",
       "      <th>0</th>\n",
       "      <td>[roman_à_clef, satire, childrens_literature, s...</td>\n",
       "      <td>Old Major, the old boar on the Manor Farm, ca...</td>\n",
       "      <td>Animal Farm</td>\n",
       "    </tr>\n",
       "    <tr>\n",
       "      <th>1</th>\n",
       "      <td>[science_fiction, novella, speculative_fiction...</td>\n",
       "      <td>Alex, a teenager living in near-future Englan...</td>\n",
       "      <td>A Clockwork Orange</td>\n",
       "    </tr>\n",
       "    <tr>\n",
       "      <th>2</th>\n",
       "      <td>[existentialism, fiction, absurdist_fiction, n...</td>\n",
       "      <td>The text of The Plague is divided into five p...</td>\n",
       "      <td>The Plague</td>\n",
       "    </tr>\n",
       "  </tbody>\n",
       "</table>\n",
       "</div>"
      ],
      "text/plain": [
       "                                           bookGenre  \\\n",
       "0  [roman_à_clef, satire, childrens_literature, s...   \n",
       "1  [science_fiction, novella, speculative_fiction...   \n",
       "2  [existentialism, fiction, absurdist_fiction, n...   \n",
       "\n",
       "                                             plotSum           bookTitle  \n",
       "0   Old Major, the old boar on the Manor Farm, ca...         Animal Farm  \n",
       "1   Alex, a teenager living in near-future Englan...  A Clockwork Orange  \n",
       "2   The text of The Plague is divided into five p...          The Plague  "
      ]
     },
     "execution_count": 5,
     "metadata": {},
     "output_type": "execute_result"
    }
   ],
   "source": [
    "books.head(3)"
   ]
  },
  {
   "cell_type": "code",
   "execution_count": 6,
   "metadata": {},
   "outputs": [],
   "source": [
    "filterer_of_sentences_noFiltNames = ct.Filter_sentence()\n",
    "filterer_of_sentences_filtNames = ct.Filter_sentence(filter_names=True)\n",
    "\n",
    "tokened_and_filtered_summaries_names = filterer_of_sentences_noFiltNames.transform(tokenized_books)\n",
    "tokened_and_filtered_summaries_NoNames = filterer_of_sentences_filtNames.transform(tokenized_books)"
   ]
  },
  {
   "cell_type": "code",
   "execution_count": 7,
   "metadata": {},
   "outputs": [
    {
     "data": {
      "text/html": [
       "<div>\n",
       "<style scoped>\n",
       "    .dataframe tbody tr th:only-of-type {\n",
       "        vertical-align: middle;\n",
       "    }\n",
       "\n",
       "    .dataframe tbody tr th {\n",
       "        vertical-align: top;\n",
       "    }\n",
       "\n",
       "    .dataframe thead th {\n",
       "        text-align: right;\n",
       "    }\n",
       "</style>\n",
       "<table border=\"1\" class=\"dataframe\">\n",
       "  <thead>\n",
       "    <tr style=\"text-align: right;\">\n",
       "      <th></th>\n",
       "      <th>bookGenre</th>\n",
       "      <th>plotSum</th>\n",
       "      <th>bookTitle</th>\n",
       "    </tr>\n",
       "  </thead>\n",
       "  <tbody>\n",
       "    <tr>\n",
       "      <th>0</th>\n",
       "      <td>[roman_à_clef, satire, childrens_literature, s...</td>\n",
       "      <td>[old, major, old, boar, manor, farm, calls, an...</td>\n",
       "      <td>Animal Farm</td>\n",
       "    </tr>\n",
       "    <tr>\n",
       "      <th>1</th>\n",
       "      <td>[science_fiction, novella, speculative_fiction...</td>\n",
       "      <td>[alex, teenager, living, nearfuture, england, ...</td>\n",
       "      <td>A Clockwork Orange</td>\n",
       "    </tr>\n",
       "    <tr>\n",
       "      <th>2</th>\n",
       "      <td>[existentialism, fiction, absurdist_fiction, n...</td>\n",
       "      <td>[text, plague, divided, five, parts, town, ora...</td>\n",
       "      <td>The Plague</td>\n",
       "    </tr>\n",
       "  </tbody>\n",
       "</table>\n",
       "</div>"
      ],
      "text/plain": [
       "                                           bookGenre  \\\n",
       "0  [roman_à_clef, satire, childrens_literature, s...   \n",
       "1  [science_fiction, novella, speculative_fiction...   \n",
       "2  [existentialism, fiction, absurdist_fiction, n...   \n",
       "\n",
       "                                             plotSum           bookTitle  \n",
       "0  [old, major, old, boar, manor, farm, calls, an...         Animal Farm  \n",
       "1  [alex, teenager, living, nearfuture, england, ...  A Clockwork Orange  \n",
       "2  [text, plague, divided, five, parts, town, ora...          The Plague  "
      ]
     },
     "execution_count": 7,
     "metadata": {},
     "output_type": "execute_result"
    }
   ],
   "source": [
    "tokened_and_filtered_summaries_names.head(3)"
   ]
  },
  {
   "cell_type": "code",
   "execution_count": 8,
   "metadata": {},
   "outputs": [
    {
     "data": {
      "text/html": [
       "<div>\n",
       "<style scoped>\n",
       "    .dataframe tbody tr th:only-of-type {\n",
       "        vertical-align: middle;\n",
       "    }\n",
       "\n",
       "    .dataframe tbody tr th {\n",
       "        vertical-align: top;\n",
       "    }\n",
       "\n",
       "    .dataframe thead th {\n",
       "        text-align: right;\n",
       "    }\n",
       "</style>\n",
       "<table border=\"1\" class=\"dataframe\">\n",
       "  <thead>\n",
       "    <tr style=\"text-align: right;\">\n",
       "      <th></th>\n",
       "      <th>bookGenre</th>\n",
       "      <th>plotSum</th>\n",
       "      <th>bookTitle</th>\n",
       "    </tr>\n",
       "  </thead>\n",
       "  <tbody>\n",
       "    <tr>\n",
       "      <th>0</th>\n",
       "      <td>[roman_à_clef, satire, childrens_literature, s...</td>\n",
       "      <td>[old, old, boar, manor, farm, calls, animals, ...</td>\n",
       "      <td>Animal Farm</td>\n",
       "    </tr>\n",
       "    <tr>\n",
       "      <th>1</th>\n",
       "      <td>[science_fiction, novella, speculative_fiction...</td>\n",
       "      <td>[teenager, living, nearfuture, england, leads,...</td>\n",
       "      <td>A Clockwork Orange</td>\n",
       "    </tr>\n",
       "    <tr>\n",
       "      <th>2</th>\n",
       "      <td>[existentialism, fiction, absurdist_fiction, n...</td>\n",
       "      <td>[text, plague, divided, five, parts, town, ora...</td>\n",
       "      <td>The Plague</td>\n",
       "    </tr>\n",
       "  </tbody>\n",
       "</table>\n",
       "</div>"
      ],
      "text/plain": [
       "                                           bookGenre  \\\n",
       "0  [roman_à_clef, satire, childrens_literature, s...   \n",
       "1  [science_fiction, novella, speculative_fiction...   \n",
       "2  [existentialism, fiction, absurdist_fiction, n...   \n",
       "\n",
       "                                             plotSum           bookTitle  \n",
       "0  [old, old, boar, manor, farm, calls, animals, ...         Animal Farm  \n",
       "1  [teenager, living, nearfuture, england, leads,...  A Clockwork Orange  \n",
       "2  [text, plague, divided, five, parts, town, ora...          The Plague  "
      ]
     },
     "execution_count": 8,
     "metadata": {},
     "output_type": "execute_result"
    }
   ],
   "source": [
    "tokened_and_filtered_summaries_NoNames.head(3)"
   ]
  },
  {
   "cell_type": "code",
   "execution_count": 9,
   "metadata": {},
   "outputs": [],
   "source": [
    "porter = ct.StemmingLemming(prune_type=\"Porter\")\n",
    "portered_books = porter.transform(tokened_and_filtered_summaries_NoNames)"
   ]
  },
  {
   "cell_type": "code",
   "execution_count": 10,
   "metadata": {},
   "outputs": [
    {
     "data": {
      "text/html": [
       "<div>\n",
       "<style scoped>\n",
       "    .dataframe tbody tr th:only-of-type {\n",
       "        vertical-align: middle;\n",
       "    }\n",
       "\n",
       "    .dataframe tbody tr th {\n",
       "        vertical-align: top;\n",
       "    }\n",
       "\n",
       "    .dataframe thead th {\n",
       "        text-align: right;\n",
       "    }\n",
       "</style>\n",
       "<table border=\"1\" class=\"dataframe\">\n",
       "  <thead>\n",
       "    <tr style=\"text-align: right;\">\n",
       "      <th></th>\n",
       "      <th>bookGenre</th>\n",
       "      <th>plotSum</th>\n",
       "      <th>bookTitle</th>\n",
       "    </tr>\n",
       "  </thead>\n",
       "  <tbody>\n",
       "    <tr>\n",
       "      <th>0</th>\n",
       "      <td>[roman_à_clef, satire, childrens_literature, s...</td>\n",
       "      <td>[old, old, boar, manor, farm, call, anim, farm...</td>\n",
       "      <td>Animal Farm</td>\n",
       "    </tr>\n",
       "    <tr>\n",
       "      <th>1</th>\n",
       "      <td>[science_fiction, novella, speculative_fiction...</td>\n",
       "      <td>[teenag, live, nearfutur, england, lead, gang,...</td>\n",
       "      <td>A Clockwork Orange</td>\n",
       "    </tr>\n",
       "    <tr>\n",
       "      <th>2</th>\n",
       "      <td>[existentialism, fiction, absurdist_fiction, n...</td>\n",
       "      <td>[text, plagu, divid, five, part, town, oran, t...</td>\n",
       "      <td>The Plague</td>\n",
       "    </tr>\n",
       "  </tbody>\n",
       "</table>\n",
       "</div>"
      ],
      "text/plain": [
       "                                           bookGenre  \\\n",
       "0  [roman_à_clef, satire, childrens_literature, s...   \n",
       "1  [science_fiction, novella, speculative_fiction...   \n",
       "2  [existentialism, fiction, absurdist_fiction, n...   \n",
       "\n",
       "                                             plotSum           bookTitle  \n",
       "0  [old, old, boar, manor, farm, call, anim, farm...         Animal Farm  \n",
       "1  [teenag, live, nearfutur, england, lead, gang,...  A Clockwork Orange  \n",
       "2  [text, plagu, divid, five, part, town, oran, t...          The Plague  "
      ]
     },
     "execution_count": 10,
     "metadata": {},
     "output_type": "execute_result"
    }
   ],
   "source": [
    "portered_books.head(3)"
   ]
  },
  {
   "cell_type": "code",
   "execution_count": 11,
   "metadata": {},
   "outputs": [
    {
     "data": {
      "text/html": [
       "<div>\n",
       "<style scoped>\n",
       "    .dataframe tbody tr th:only-of-type {\n",
       "        vertical-align: middle;\n",
       "    }\n",
       "\n",
       "    .dataframe tbody tr th {\n",
       "        vertical-align: top;\n",
       "    }\n",
       "\n",
       "    .dataframe thead th {\n",
       "        text-align: right;\n",
       "    }\n",
       "</style>\n",
       "<table border=\"1\" class=\"dataframe\">\n",
       "  <thead>\n",
       "    <tr style=\"text-align: right;\">\n",
       "      <th></th>\n",
       "      <th>bookGenre</th>\n",
       "      <th>plotSum</th>\n",
       "      <th>bookTitle</th>\n",
       "    </tr>\n",
       "  </thead>\n",
       "  <tbody>\n",
       "    <tr>\n",
       "      <th>0</th>\n",
       "      <td>[roman_à_clef, satire, childrens_literature, s...</td>\n",
       "      <td>[old, old, boar, manor, farm, calls, animals, ...</td>\n",
       "      <td>Animal Farm</td>\n",
       "    </tr>\n",
       "    <tr>\n",
       "      <th>1</th>\n",
       "      <td>[science_fiction, novella, speculative_fiction...</td>\n",
       "      <td>[teenager, living, nearfuture, england, leads,...</td>\n",
       "      <td>A Clockwork Orange</td>\n",
       "    </tr>\n",
       "    <tr>\n",
       "      <th>2</th>\n",
       "      <td>[existentialism, fiction, absurdist_fiction, n...</td>\n",
       "      <td>[text, plague, divided, five, parts, town, ora...</td>\n",
       "      <td>The Plague</td>\n",
       "    </tr>\n",
       "  </tbody>\n",
       "</table>\n",
       "</div>"
      ],
      "text/plain": [
       "                                           bookGenre  \\\n",
       "0  [roman_à_clef, satire, childrens_literature, s...   \n",
       "1  [science_fiction, novella, speculative_fiction...   \n",
       "2  [existentialism, fiction, absurdist_fiction, n...   \n",
       "\n",
       "                                             plotSum           bookTitle  \n",
       "0  [old, old, boar, manor, farm, calls, animals, ...         Animal Farm  \n",
       "1  [teenager, living, nearfuture, england, leads,...  A Clockwork Orange  \n",
       "2  [text, plague, divided, five, parts, town, ora...          The Plague  "
      ]
     },
     "execution_count": 11,
     "metadata": {},
     "output_type": "execute_result"
    }
   ],
   "source": [
    "tokened_and_filtered_summaries_NoNames.head(3)"
   ]
  },
  {
   "cell_type": "code",
   "execution_count": 12,
   "metadata": {},
   "outputs": [],
   "source": [
    "lancaster = ct.StemmingLemming(prune_type=\"Lancaster\")\n",
    "lancasted_books = lancaster.transform(tokened_and_filtered_summaries_NoNames)"
   ]
  },
  {
   "cell_type": "code",
   "execution_count": 13,
   "metadata": {},
   "outputs": [
    {
     "data": {
      "text/html": [
       "<div>\n",
       "<style scoped>\n",
       "    .dataframe tbody tr th:only-of-type {\n",
       "        vertical-align: middle;\n",
       "    }\n",
       "\n",
       "    .dataframe tbody tr th {\n",
       "        vertical-align: top;\n",
       "    }\n",
       "\n",
       "    .dataframe thead th {\n",
       "        text-align: right;\n",
       "    }\n",
       "</style>\n",
       "<table border=\"1\" class=\"dataframe\">\n",
       "  <thead>\n",
       "    <tr style=\"text-align: right;\">\n",
       "      <th></th>\n",
       "      <th>bookGenre</th>\n",
       "      <th>plotSum</th>\n",
       "      <th>bookTitle</th>\n",
       "    </tr>\n",
       "  </thead>\n",
       "  <tbody>\n",
       "    <tr>\n",
       "      <th>0</th>\n",
       "      <td>[roman_à_clef, satire, childrens_literature, s...</td>\n",
       "      <td>[old, old, boar, man, farm, cal, anim, farm, m...</td>\n",
       "      <td>Animal Farm</td>\n",
       "    </tr>\n",
       "    <tr>\n",
       "      <th>1</th>\n",
       "      <td>[science_fiction, novella, speculative_fiction...</td>\n",
       "      <td>[teen, liv, nearfut, england, lead, gang, nigh...</td>\n",
       "      <td>A Clockwork Orange</td>\n",
       "    </tr>\n",
       "    <tr>\n",
       "      <th>2</th>\n",
       "      <td>[existentialism, fiction, absurdist_fiction, n...</td>\n",
       "      <td>[text, plagu, divid, fiv, part, town, or, thou...</td>\n",
       "      <td>The Plague</td>\n",
       "    </tr>\n",
       "  </tbody>\n",
       "</table>\n",
       "</div>"
      ],
      "text/plain": [
       "                                           bookGenre  \\\n",
       "0  [roman_à_clef, satire, childrens_literature, s...   \n",
       "1  [science_fiction, novella, speculative_fiction...   \n",
       "2  [existentialism, fiction, absurdist_fiction, n...   \n",
       "\n",
       "                                             plotSum           bookTitle  \n",
       "0  [old, old, boar, man, farm, cal, anim, farm, m...         Animal Farm  \n",
       "1  [teen, liv, nearfut, england, lead, gang, nigh...  A Clockwork Orange  \n",
       "2  [text, plagu, divid, fiv, part, town, or, thou...          The Plague  "
      ]
     },
     "execution_count": 13,
     "metadata": {},
     "output_type": "execute_result"
    }
   ],
   "source": [
    "lancasted_books.head(3)"
   ]
  },
  {
   "cell_type": "code",
   "execution_count": 14,
   "metadata": {},
   "outputs": [],
   "source": [
    "lemmer = ct.StemmingLemming(prune_type=\"Lemmatization\")\n",
    "lemmatized_books = lemmer.transform(tokened_and_filtered_summaries_NoNames)"
   ]
  },
  {
   "cell_type": "code",
   "execution_count": 15,
   "metadata": {},
   "outputs": [
    {
     "data": {
      "text/html": [
       "<div>\n",
       "<style scoped>\n",
       "    .dataframe tbody tr th:only-of-type {\n",
       "        vertical-align: middle;\n",
       "    }\n",
       "\n",
       "    .dataframe tbody tr th {\n",
       "        vertical-align: top;\n",
       "    }\n",
       "\n",
       "    .dataframe thead th {\n",
       "        text-align: right;\n",
       "    }\n",
       "</style>\n",
       "<table border=\"1\" class=\"dataframe\">\n",
       "  <thead>\n",
       "    <tr style=\"text-align: right;\">\n",
       "      <th></th>\n",
       "      <th>bookGenre</th>\n",
       "      <th>plotSum</th>\n",
       "      <th>bookTitle</th>\n",
       "    </tr>\n",
       "  </thead>\n",
       "  <tbody>\n",
       "    <tr>\n",
       "      <th>0</th>\n",
       "      <td>[roman_à_clef, satire, childrens_literature, s...</td>\n",
       "      <td>[old, old, boar, manor, farm, call, animal, fa...</td>\n",
       "      <td>Animal Farm</td>\n",
       "    </tr>\n",
       "    <tr>\n",
       "      <th>1</th>\n",
       "      <td>[science_fiction, novella, speculative_fiction...</td>\n",
       "      <td>[teenager, living, nearfuture, england, lead, ...</td>\n",
       "      <td>A Clockwork Orange</td>\n",
       "    </tr>\n",
       "    <tr>\n",
       "      <th>2</th>\n",
       "      <td>[existentialism, fiction, absurdist_fiction, n...</td>\n",
       "      <td>[text, plague, divide, five, part, town, oran,...</td>\n",
       "      <td>The Plague</td>\n",
       "    </tr>\n",
       "  </tbody>\n",
       "</table>\n",
       "</div>"
      ],
      "text/plain": [
       "                                           bookGenre  \\\n",
       "0  [roman_à_clef, satire, childrens_literature, s...   \n",
       "1  [science_fiction, novella, speculative_fiction...   \n",
       "2  [existentialism, fiction, absurdist_fiction, n...   \n",
       "\n",
       "                                             plotSum           bookTitle  \n",
       "0  [old, old, boar, manor, farm, call, animal, fa...         Animal Farm  \n",
       "1  [teenager, living, nearfuture, england, lead, ...  A Clockwork Orange  \n",
       "2  [text, plague, divide, five, part, town, oran,...          The Plague  "
      ]
     },
     "execution_count": 15,
     "metadata": {},
     "output_type": "execute_result"
    }
   ],
   "source": [
    "lemmatized_books.head(3)"
   ]
  },
  {
   "cell_type": "code",
   "execution_count": 16,
   "metadata": {},
   "outputs": [
    {
     "data": {
      "text/html": [
       "<div>\n",
       "<style scoped>\n",
       "    .dataframe tbody tr th:only-of-type {\n",
       "        vertical-align: middle;\n",
       "    }\n",
       "\n",
       "    .dataframe tbody tr th {\n",
       "        vertical-align: top;\n",
       "    }\n",
       "\n",
       "    .dataframe thead th {\n",
       "        text-align: right;\n",
       "    }\n",
       "</style>\n",
       "<table border=\"1\" class=\"dataframe\">\n",
       "  <thead>\n",
       "    <tr style=\"text-align: right;\">\n",
       "      <th></th>\n",
       "      <th>bookGenre</th>\n",
       "      <th>plotSum</th>\n",
       "      <th>bookTitle</th>\n",
       "    </tr>\n",
       "  </thead>\n",
       "  <tbody>\n",
       "    <tr>\n",
       "      <th>0</th>\n",
       "      <td>[roman_à_clef, satire, childrens_literature, s...</td>\n",
       "      <td>Old Major, the old boar on the Manor Farm, ca...</td>\n",
       "      <td>Animal Farm</td>\n",
       "    </tr>\n",
       "    <tr>\n",
       "      <th>1</th>\n",
       "      <td>[science_fiction, novella, speculative_fiction...</td>\n",
       "      <td>Alex, a teenager living in near-future Englan...</td>\n",
       "      <td>A Clockwork Orange</td>\n",
       "    </tr>\n",
       "    <tr>\n",
       "      <th>2</th>\n",
       "      <td>[existentialism, fiction, absurdist_fiction, n...</td>\n",
       "      <td>The text of The Plague is divided into five p...</td>\n",
       "      <td>The Plague</td>\n",
       "    </tr>\n",
       "  </tbody>\n",
       "</table>\n",
       "</div>"
      ],
      "text/plain": [
       "                                           bookGenre  \\\n",
       "0  [roman_à_clef, satire, childrens_literature, s...   \n",
       "1  [science_fiction, novella, speculative_fiction...   \n",
       "2  [existentialism, fiction, absurdist_fiction, n...   \n",
       "\n",
       "                                             plotSum           bookTitle  \n",
       "0   Old Major, the old boar on the Manor Farm, ca...         Animal Farm  \n",
       "1   Alex, a teenager living in near-future Englan...  A Clockwork Orange  \n",
       "2   The text of The Plague is divided into five p...          The Plague  "
      ]
     },
     "execution_count": 16,
     "metadata": {},
     "output_type": "execute_result"
    }
   ],
   "source": [
    "books.head(3)"
   ]
  },
  {
   "cell_type": "code",
   "execution_count": 17,
   "metadata": {},
   "outputs": [
    {
     "data": {
      "text/html": [
       "<div>\n",
       "<style scoped>\n",
       "    .dataframe tbody tr th:only-of-type {\n",
       "        vertical-align: middle;\n",
       "    }\n",
       "\n",
       "    .dataframe tbody tr th {\n",
       "        vertical-align: top;\n",
       "    }\n",
       "\n",
       "    .dataframe thead th {\n",
       "        text-align: right;\n",
       "    }\n",
       "</style>\n",
       "<table border=\"1\" class=\"dataframe\">\n",
       "  <thead>\n",
       "    <tr style=\"text-align: right;\">\n",
       "      <th></th>\n",
       "      <th>bookGenre</th>\n",
       "      <th>plotSum</th>\n",
       "      <th>bookTitle</th>\n",
       "    </tr>\n",
       "  </thead>\n",
       "  <tbody>\n",
       "    <tr>\n",
       "      <th>0</th>\n",
       "      <td>[roman_à_clef, satire, childrens_literature, s...</td>\n",
       "      <td>old old boar manor farm call animal farm meeti...</td>\n",
       "      <td>Animal Farm</td>\n",
       "    </tr>\n",
       "    <tr>\n",
       "      <th>1</th>\n",
       "      <td>[science_fiction, novella, speculative_fiction...</td>\n",
       "      <td>teenager living nearfuture england lead gang n...</td>\n",
       "      <td>A Clockwork Orange</td>\n",
       "    </tr>\n",
       "    <tr>\n",
       "      <th>2</th>\n",
       "      <td>[existentialism, fiction, absurdist_fiction, n...</td>\n",
       "      <td>text plague divide five part town oran thousan...</td>\n",
       "      <td>The Plague</td>\n",
       "    </tr>\n",
       "  </tbody>\n",
       "</table>\n",
       "</div>"
      ],
      "text/plain": [
       "                                           bookGenre  \\\n",
       "0  [roman_à_clef, satire, childrens_literature, s...   \n",
       "1  [science_fiction, novella, speculative_fiction...   \n",
       "2  [existentialism, fiction, absurdist_fiction, n...   \n",
       "\n",
       "                                             plotSum           bookTitle  \n",
       "0  old old boar manor farm call animal farm meeti...         Animal Farm  \n",
       "1  teenager living nearfuture england lead gang n...  A Clockwork Orange  \n",
       "2  text plague divide five part town oran thousan...          The Plague  "
      ]
     },
     "execution_count": 17,
     "metadata": {},
     "output_type": "execute_result"
    }
   ],
   "source": [
    "joiner_transformer = ct.Joiner()\n",
    "joined_books = joiner_transformer.transform(lemmatized_books)\n",
    "joined_books.head(3)"
   ]
  }
 ],
 "metadata": {
  "kernelspec": {
   "display_name": "AVC",
   "language": "python",
   "name": "avc"
  },
  "language_info": {
   "codemirror_mode": {
    "name": "ipython",
    "version": 3
   },
   "file_extension": ".py",
   "mimetype": "text/x-python",
   "name": "python",
   "nbconvert_exporter": "python",
   "pygments_lexer": "ipython3",
   "version": "3.7.3"
  }
 },
 "nbformat": 4,
 "nbformat_minor": 2
}
