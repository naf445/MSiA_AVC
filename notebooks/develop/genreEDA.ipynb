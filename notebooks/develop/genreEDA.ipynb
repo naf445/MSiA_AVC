{
 "cells": [
  {
   "cell_type": "code",
   "execution_count": 1,
   "metadata": {},
   "outputs": [],
   "source": [
    "import pandas as pd\n",
    "import ast\n",
    "from data import data\n",
    "\n",
    "from sklearn.feature_extraction.text import CountVectorizer\n",
    "\n",
    "import numpy as np\n",
    "import seaborn as sns\n",
    "import matplotlib.pyplot as plt\n",
    "\n",
    "% matplotlib inline\n",
    "pd.options.display.max_rows = 500"
   ]
  },
  {
   "cell_type": "code",
   "execution_count": 2,
   "metadata": {},
   "outputs": [],
   "source": [
    "books = data.loadAndClean('../booksummaries/booksummaries.txt')"
   ]
  },
  {
   "cell_type": "code",
   "execution_count": 3,
   "metadata": {},
   "outputs": [],
   "source": [
    "books = books[['bookGenre', 'plotSum', 'bookTitle']]"
   ]
  },
  {
   "cell_type": "code",
   "execution_count": 4,
   "metadata": {},
   "outputs": [
    {
     "data": {
      "text/plain": [
       "['roman_à_clef satire childrens_literature speculative_fiction fiction',\n",
       " 'science_fiction novella speculative_fiction utopian_and_dystopian_fiction satire fiction',\n",
       " 'existentialism fiction absurdist_fiction novel']"
      ]
     },
     "execution_count": 4,
     "metadata": {},
     "output_type": "execute_result"
    }
   ],
   "source": [
    "corpus = list(books.bookGenre.apply(lambda row: ' '.join(row)))\n",
    "corpus[:3]"
   ]
  },
  {
   "cell_type": "markdown",
   "metadata": {},
   "source": [
    "My corpus is a set of documents. In this case, each document is a string where terms are genres."
   ]
  },
  {
   "cell_type": "code",
   "execution_count": 5,
   "metadata": {},
   "outputs": [
    {
     "data": {
      "text/plain": [
       "(12841, 234)"
      ]
     },
     "execution_count": 5,
     "metadata": {},
     "output_type": "execute_result"
    }
   ],
   "source": [
    "# Create a CountVectorizer function contained within a variable\n",
    "vectorizer = CountVectorizer()\n",
    "\n",
    "# Tell this vectorizer model to fit itself to my corpus\n",
    "X = vectorizer.fit_transform(corpus)\n",
    "\n",
    "# Check the shape of my new object I have created.\n",
    "# This object will have a row for every document in my corpus,\\\n",
    "# and a column for all of the vocabulary words in my corpus\n",
    "X.toarray().shape"
   ]
  },
  {
   "cell_type": "markdown",
   "metadata": {},
   "source": [
    "We see we have 12841 rows representing 12481 documents, and 234 'words' in our vocabulary. \n",
    "Each value will be a count of how many times the document contains this word."
   ]
  },
  {
   "cell_type": "code",
   "execution_count": 6,
   "metadata": {},
   "outputs": [],
   "source": [
    "# Now we want a symmetric correlation matrix showing how often the genres appeared with each other.\n",
    "Xc = (X.T * X)\n",
    "Xc.setdiag(0)\n",
    "co_occurences = pd.DataFrame(Xc.toarray())\n",
    "co_occurences.columns = vectorizer.get_feature_names()\n",
    "co_occurences.index = vectorizer.get_feature_names()"
   ]
  },
  {
   "cell_type": "code",
   "execution_count": 7,
   "metadata": {},
   "outputs": [
    {
     "data": {
      "text/html": [
       "<div>\n",
       "<style scoped>\n",
       "    .dataframe tbody tr th:only-of-type {\n",
       "        vertical-align: middle;\n",
       "    }\n",
       "\n",
       "    .dataframe tbody tr th {\n",
       "        vertical-align: top;\n",
       "    }\n",
       "\n",
       "    .dataframe thead th {\n",
       "        text-align: right;\n",
       "    }\n",
       "</style>\n",
       "<table border=\"1\" class=\"dataframe\">\n",
       "  <thead>\n",
       "    <tr style=\"text-align: right;\">\n",
       "      <th></th>\n",
       "      <th>absurdist_fiction</th>\n",
       "      <th>adventure</th>\n",
       "      <th>adventure_novel</th>\n",
       "      <th>albino_bias</th>\n",
       "      <th>alien_invasion</th>\n",
       "    </tr>\n",
       "  </thead>\n",
       "  <tbody>\n",
       "    <tr>\n",
       "      <th>absurdist_fiction</th>\n",
       "      <td>0</td>\n",
       "      <td>2</td>\n",
       "      <td>2</td>\n",
       "      <td>0</td>\n",
       "      <td>0</td>\n",
       "    </tr>\n",
       "    <tr>\n",
       "      <th>adventure</th>\n",
       "      <td>2</td>\n",
       "      <td>0</td>\n",
       "      <td>20</td>\n",
       "      <td>0</td>\n",
       "      <td>0</td>\n",
       "    </tr>\n",
       "    <tr>\n",
       "      <th>adventure_novel</th>\n",
       "      <td>2</td>\n",
       "      <td>20</td>\n",
       "      <td>0</td>\n",
       "      <td>0</td>\n",
       "      <td>0</td>\n",
       "    </tr>\n",
       "    <tr>\n",
       "      <th>albino_bias</th>\n",
       "      <td>0</td>\n",
       "      <td>0</td>\n",
       "      <td>0</td>\n",
       "      <td>0</td>\n",
       "      <td>0</td>\n",
       "    </tr>\n",
       "    <tr>\n",
       "      <th>alien_invasion</th>\n",
       "      <td>0</td>\n",
       "      <td>0</td>\n",
       "      <td>0</td>\n",
       "      <td>0</td>\n",
       "      <td>0</td>\n",
       "    </tr>\n",
       "  </tbody>\n",
       "</table>\n",
       "</div>"
      ],
      "text/plain": [
       "                   absurdist_fiction  adventure  adventure_novel  albino_bias  \\\n",
       "absurdist_fiction                  0          2                2            0   \n",
       "adventure                          2          0               20            0   \n",
       "adventure_novel                    2         20                0            0   \n",
       "albino_bias                        0          0                0            0   \n",
       "alien_invasion                     0          0                0            0   \n",
       "\n",
       "                   alien_invasion  \n",
       "absurdist_fiction               0  \n",
       "adventure                       0  \n",
       "adventure_novel                 0  \n",
       "albino_bias                     0  \n",
       "alien_invasion                  0  "
      ]
     },
     "execution_count": 7,
     "metadata": {},
     "output_type": "execute_result"
    }
   ],
   "source": [
    "co_occurences.iloc[:5,:5]"
   ]
  },
  {
   "cell_type": "markdown",
   "metadata": {},
   "source": [
    "This little snippet shows our symmetric co_occurence count matrix. "
   ]
  },
  {
   "cell_type": "code",
   "execution_count": 8,
   "metadata": {},
   "outputs": [
    {
     "data": {
      "text/plain": [
       "<matplotlib.axes._subplots.AxesSubplot at 0x1a29503518>"
      ]
     },
     "execution_count": 8,
     "metadata": {},
     "output_type": "execute_result"
    },
    {
     "data": {
      "image/png": "[encoded data removed]",
      "text/plain": [
       "<Figure size 432x288 with 2 Axes>"
      ]
     },
     "metadata": {
      "needs_background": "light"
     },
     "output_type": "display_data"
    }
   ],
   "source": [
    "sns.heatmap(co_occurences, vmin=-50, vmax=50, cmap='coolwarm')"
   ]
  },
  {
   "cell_type": "markdown",
   "metadata": {},
   "source": [
    "This heatmap isn't very useful b/c of how many genres we have."
   ]
  },
  {
   "cell_type": "code",
   "execution_count": 9,
   "metadata": {},
   "outputs": [],
   "source": [
    "# Transform our data frame to have the first column be called genre_1\n",
    "co_occurences = co_occurences.reset_index().rename(columns={\"index\": \"genre_1\"})\n",
    "# Go from this symmetric co_occurence matrix back to a Pandas.DataFrame\\\n",
    "# and rename our columns for easier reading\n",
    "co_occurences = pd.melt(co_occurences, id_vars=['genre_1'], value_vars=co_occurences.columns[1:])\n",
    "co_occurences.columns=['genre_1','genre_2','co_occurence_num']\n",
    "co_occurences['genrePair'] = co_occurences.apply(lambda row: ', '.join(sorted([row.genre_1, row.genre_2])), axis=1)\n",
    "co_occurences = co_occurences.drop_duplicates(subset='genrePair')\n",
    "co_occurences = co_occurences[['genrePair', 'co_occurence_num']]\n",
    "\n",
    "# Turn the genrePair strings back into a list so we can\n",
    "# compare them directly with our books['bookGenre'] lists \n",
    "co_occurences['genrePair'] = co_occurences['genrePair'].apply(lambda row: row.split(','))"
   ]
  },
  {
   "cell_type": "code",
   "execution_count": 10,
   "metadata": {},
   "outputs": [
    {
     "data": {
      "text/html": [
       "<div>\n",
       "<style scoped>\n",
       "    .dataframe tbody tr th:only-of-type {\n",
       "        vertical-align: middle;\n",
       "    }\n",
       "\n",
       "    .dataframe tbody tr th {\n",
       "        vertical-align: top;\n",
       "    }\n",
       "\n",
       "    .dataframe thead th {\n",
       "        text-align: right;\n",
       "    }\n",
       "</style>\n",
       "<table border=\"1\" class=\"dataframe\">\n",
       "  <thead>\n",
       "    <tr style=\"text-align: right;\">\n",
       "      <th></th>\n",
       "      <th>genrePair</th>\n",
       "      <th>co_occurence_num</th>\n",
       "    </tr>\n",
       "  </thead>\n",
       "  <tbody>\n",
       "    <tr>\n",
       "      <th>43020</th>\n",
       "      <td>[science_fiction,  speculative_fiction]</td>\n",
       "      <td>2014</td>\n",
       "    </tr>\n",
       "    <tr>\n",
       "      <th>17748</th>\n",
       "      <td>[fiction,  speculative_fiction]</td>\n",
       "      <td>1997</td>\n",
       "    </tr>\n",
       "    <tr>\n",
       "      <th>16812</th>\n",
       "      <td>[fantasy,  speculative_fiction]</td>\n",
       "      <td>1675</td>\n",
       "    </tr>\n",
       "    <tr>\n",
       "      <th>6627</th>\n",
       "      <td>[childrens_literature,  fiction]</td>\n",
       "      <td>1123</td>\n",
       "    </tr>\n",
       "    <tr>\n",
       "      <th>17733</th>\n",
       "      <td>[fiction,  science_fiction]</td>\n",
       "      <td>1093</td>\n",
       "    </tr>\n",
       "    <tr>\n",
       "      <th>16689</th>\n",
       "      <td>[fantasy,  fiction]</td>\n",
       "      <td>1045</td>\n",
       "    </tr>\n",
       "    <tr>\n",
       "      <th>17688</th>\n",
       "      <td>[fiction,  novel]</td>\n",
       "      <td>1025</td>\n",
       "    </tr>\n",
       "    <tr>\n",
       "      <th>17681</th>\n",
       "      <td>[fiction,  mystery]</td>\n",
       "      <td>853</td>\n",
       "    </tr>\n",
       "    <tr>\n",
       "      <th>6750</th>\n",
       "      <td>[childrens_literature,  speculative_fiction]</td>\n",
       "      <td>821</td>\n",
       "    </tr>\n",
       "    <tr>\n",
       "      <th>17756</th>\n",
       "      <td>[fiction,  suspense]</td>\n",
       "      <td>714</td>\n",
       "    </tr>\n",
       "  </tbody>\n",
       "</table>\n",
       "</div>"
      ],
      "text/plain": [
       "                                          genrePair  co_occurence_num\n",
       "43020       [science_fiction,  speculative_fiction]              2014\n",
       "17748               [fiction,  speculative_fiction]              1997\n",
       "16812               [fantasy,  speculative_fiction]              1675\n",
       "6627               [childrens_literature,  fiction]              1123\n",
       "17733                   [fiction,  science_fiction]              1093\n",
       "16689                           [fantasy,  fiction]              1045\n",
       "17688                             [fiction,  novel]              1025\n",
       "17681                           [fiction,  mystery]               853\n",
       "6750   [childrens_literature,  speculative_fiction]               821\n",
       "17756                          [fiction,  suspense]               714"
      ]
     },
     "execution_count": 10,
     "metadata": {},
     "output_type": "execute_result"
    }
   ],
   "source": [
    "co_occurences.sort_values(by='co_occurence_num', ascending=False).iloc[0:10,]"
   ]
  },
  {
   "cell_type": "markdown",
   "metadata": {},
   "source": [
    "We see that 'speculative_fiction' and 'science_fiction' appear together in 2014 separate documents.\n",
    "These types of insights will help us make the rules to classify our multi-genre labels into a single genre. "
   ]
  },
  {
   "cell_type": "code",
   "execution_count": 11,
   "metadata": {},
   "outputs": [],
   "source": [
    "# Sort all the bookGenre lists so we can compare them directly with our co_occurences lists \n",
    "books['bookGenre'] = books['bookGenre'].apply(lambda row: sorted(row))"
   ]
  },
  {
   "cell_type": "code",
   "execution_count": null,
   "metadata": {},
   "outputs": [],
   "source": []
  }
 ],
 "metadata": {
  "kernelspec": {
   "display_name": "Python 3",
   "language": "python",
   "name": "python3"
  },
  "language_info": {
   "codemirror_mode": {
    "name": "ipython",
    "version": 3
   },
   "file_extension": ".py",
   "mimetype": "text/x-python",
   "name": "python",
   "nbconvert_exporter": "python",
   "pygments_lexer": "ipython3",
   "version": "3.7.2"
  }
 },
 "nbformat": 4,
 "nbformat_minor": 2
}
