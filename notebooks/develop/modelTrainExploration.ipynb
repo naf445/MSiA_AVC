{
 "cells": [
  {
   "cell_type": "code",
   "execution_count": 112,
   "metadata": {},
   "outputs": [],
   "source": [
    "import numpy as np\n",
    "import sys; sys.path.append('../../src/helpers')\n",
    "import pandas as pd\n",
    "from data_manipulation import custom_transformers as ct\n",
    "from sklearn.preprocessing import MultiLabelBinarizer as MLB\n",
    "import ast\n",
    "from sklearn.ensemble import RandomForestClassifier\n",
    "from sklearn.model_selection import train_test_split\n",
    "from sklearn.multiclass import OneVsRestClassifier\n",
    "from sklearn.metrics import accuracy_score, f1_score, recall_score\n",
    "import csv"
   ]
  },
  {
   "cell_type": "code",
   "execution_count": 2,
   "metadata": {},
   "outputs": [],
   "source": [
    "books = pd.read_csv('../../data/booksummaries/booksummaries_ready2train.csv')"
   ]
  },
  {
   "cell_type": "code",
   "execution_count": 3,
   "metadata": {},
   "outputs": [],
   "source": [
    "books = books[['bookGenre', 'plotSum2vec', 'plotSumLDA']]"
   ]
  },
  {
   "cell_type": "code",
   "execution_count": 4,
   "metadata": {},
   "outputs": [
    {
     "data": {
      "text/html": [
       "<div>\n",
       "<style scoped>\n",
       "    .dataframe tbody tr th:only-of-type {\n",
       "        vertical-align: middle;\n",
       "    }\n",
       "\n",
       "    .dataframe tbody tr th {\n",
       "        vertical-align: top;\n",
       "    }\n",
       "\n",
       "    .dataframe thead th {\n",
       "        text-align: right;\n",
       "    }\n",
       "</style>\n",
       "<table border=\"1\" class=\"dataframe\">\n",
       "  <thead>\n",
       "    <tr style=\"text-align: right;\">\n",
       "      <th></th>\n",
       "      <th>bookGenre</th>\n",
       "      <th>plotSum2vec</th>\n",
       "      <th>plotSumLDA</th>\n",
       "    </tr>\n",
       "  </thead>\n",
       "  <tbody>\n",
       "    <tr>\n",
       "      <th>0</th>\n",
       "      <td>['comedy', 'children', 'speculative_fiction', ...</td>\n",
       "      <td>[0.200577126220817, -0.07933575619857114, -0.1...</td>\n",
       "      <td>[[0.10461494554710699, 0.008884378461627089, 0...</td>\n",
       "    </tr>\n",
       "    <tr>\n",
       "      <th>1</th>\n",
       "      <td>['science_fiction', 'fiction', 'speculative_fi...</td>\n",
       "      <td>[0.18350660521234127, 0.06064006807343155, -0....</td>\n",
       "      <td>[[0.28507211845525116, 0.02644368505441909, 0....</td>\n",
       "    </tr>\n",
       "  </tbody>\n",
       "</table>\n",
       "</div>"
      ],
      "text/plain": [
       "                                           bookGenre  \\\n",
       "0  ['comedy', 'children', 'speculative_fiction', ...   \n",
       "1  ['science_fiction', 'fiction', 'speculative_fi...   \n",
       "\n",
       "                                         plotSum2vec  \\\n",
       "0  [0.200577126220817, -0.07933575619857114, -0.1...   \n",
       "1  [0.18350660521234127, 0.06064006807343155, -0....   \n",
       "\n",
       "                                          plotSumLDA  \n",
       "0  [[0.10461494554710699, 0.008884378461627089, 0...  \n",
       "1  [[0.28507211845525116, 0.02644368505441909, 0....  "
      ]
     },
     "execution_count": 4,
     "metadata": {},
     "output_type": "execute_result"
    }
   ],
   "source": [
    "books.head(2)"
   ]
  },
  {
   "cell_type": "code",
   "execution_count": 5,
   "metadata": {},
   "outputs": [],
   "source": [
    "genres = books['bookGenre'].to_list()"
   ]
  },
  {
   "cell_type": "code",
   "execution_count": 6,
   "metadata": {},
   "outputs": [],
   "source": [
    "genres_list = [ast.literal_eval(x) for x in genres]"
   ]
  },
  {
   "cell_type": "code",
   "execution_count": 67,
   "metadata": {},
   "outputs": [
    {
     "data": {
      "text/plain": [
       "['comedy', 'children', 'speculative_fiction', 'fiction']"
      ]
     },
     "execution_count": 67,
     "metadata": {},
     "output_type": "execute_result"
    }
   ],
   "source": [
    "genres_list[0]"
   ]
  },
  {
   "cell_type": "code",
   "execution_count": 8,
   "metadata": {},
   "outputs": [],
   "source": [
    "mlb = MLB()"
   ]
  },
  {
   "cell_type": "code",
   "execution_count": 9,
   "metadata": {},
   "outputs": [],
   "source": [
    "mlb_Genres = mlb.fit_transform(y=genres_list)"
   ]
  },
  {
   "cell_type": "code",
   "execution_count": 10,
   "metadata": {},
   "outputs": [],
   "source": [
    "Y = pd.DataFrame(mlb_Genres, columns=mlb.classes_)"
   ]
  },
  {
   "cell_type": "code",
   "execution_count": 11,
   "metadata": {},
   "outputs": [
    {
     "data": {
      "text/html": [
       "<div>\n",
       "<style scoped>\n",
       "    .dataframe tbody tr th:only-of-type {\n",
       "        vertical-align: middle;\n",
       "    }\n",
       "\n",
       "    .dataframe tbody tr th {\n",
       "        vertical-align: top;\n",
       "    }\n",
       "\n",
       "    .dataframe thead th {\n",
       "        text-align: right;\n",
       "    }\n",
       "</style>\n",
       "<table border=\"1\" class=\"dataframe\">\n",
       "  <thead>\n",
       "    <tr style=\"text-align: right;\">\n",
       "      <th></th>\n",
       "      <th>absurdist_fiction</th>\n",
       "      <th>adventure</th>\n",
       "      <th>anthol_biog_autobiog</th>\n",
       "      <th>anthropology</th>\n",
       "      <th>anti-nuclear</th>\n",
       "      <th>anti-war</th>\n",
       "      <th>chick_lit</th>\n",
       "      <th>children</th>\n",
       "      <th>comedy</th>\n",
       "      <th>conspiracy</th>\n",
       "      <th>...</th>\n",
       "      <th>science_fiction</th>\n",
       "      <th>speculative_fiction</th>\n",
       "      <th>sports</th>\n",
       "      <th>steampunk</th>\n",
       "      <th>suspense/thriller/spy</th>\n",
       "      <th>tragicomedy</th>\n",
       "      <th>true_crime</th>\n",
       "      <th>war</th>\n",
       "      <th>western</th>\n",
       "      <th>young_adult</th>\n",
       "    </tr>\n",
       "  </thead>\n",
       "  <tbody>\n",
       "    <tr>\n",
       "      <th>0</th>\n",
       "      <td>0</td>\n",
       "      <td>0</td>\n",
       "      <td>0</td>\n",
       "      <td>0</td>\n",
       "      <td>0</td>\n",
       "      <td>0</td>\n",
       "      <td>0</td>\n",
       "      <td>1</td>\n",
       "      <td>1</td>\n",
       "      <td>0</td>\n",
       "      <td>...</td>\n",
       "      <td>0</td>\n",
       "      <td>1</td>\n",
       "      <td>0</td>\n",
       "      <td>0</td>\n",
       "      <td>0</td>\n",
       "      <td>0</td>\n",
       "      <td>0</td>\n",
       "      <td>0</td>\n",
       "      <td>0</td>\n",
       "      <td>0</td>\n",
       "    </tr>\n",
       "    <tr>\n",
       "      <th>1</th>\n",
       "      <td>0</td>\n",
       "      <td>0</td>\n",
       "      <td>0</td>\n",
       "      <td>0</td>\n",
       "      <td>0</td>\n",
       "      <td>0</td>\n",
       "      <td>0</td>\n",
       "      <td>0</td>\n",
       "      <td>1</td>\n",
       "      <td>0</td>\n",
       "      <td>...</td>\n",
       "      <td>1</td>\n",
       "      <td>1</td>\n",
       "      <td>0</td>\n",
       "      <td>0</td>\n",
       "      <td>0</td>\n",
       "      <td>0</td>\n",
       "      <td>0</td>\n",
       "      <td>0</td>\n",
       "      <td>0</td>\n",
       "      <td>0</td>\n",
       "    </tr>\n",
       "    <tr>\n",
       "      <th>2</th>\n",
       "      <td>1</td>\n",
       "      <td>0</td>\n",
       "      <td>0</td>\n",
       "      <td>0</td>\n",
       "      <td>0</td>\n",
       "      <td>0</td>\n",
       "      <td>0</td>\n",
       "      <td>0</td>\n",
       "      <td>0</td>\n",
       "      <td>0</td>\n",
       "      <td>...</td>\n",
       "      <td>0</td>\n",
       "      <td>0</td>\n",
       "      <td>0</td>\n",
       "      <td>0</td>\n",
       "      <td>0</td>\n",
       "      <td>0</td>\n",
       "      <td>0</td>\n",
       "      <td>0</td>\n",
       "      <td>0</td>\n",
       "      <td>0</td>\n",
       "    </tr>\n",
       "  </tbody>\n",
       "</table>\n",
       "<p>3 rows × 40 columns</p>\n",
       "</div>"
      ],
      "text/plain": [
       "   absurdist_fiction  adventure  anthol_biog_autobiog  anthropology  \\\n",
       "0                  0          0                     0             0   \n",
       "1                  0          0                     0             0   \n",
       "2                  1          0                     0             0   \n",
       "\n",
       "   anti-nuclear  anti-war  chick_lit  children  comedy  conspiracy  ...  \\\n",
       "0             0         0          0         1       1           0  ...   \n",
       "1             0         0          0         0       1           0  ...   \n",
       "2             0         0          0         0       0           0  ...   \n",
       "\n",
       "   science_fiction  speculative_fiction  sports  steampunk  \\\n",
       "0                0                    1       0          0   \n",
       "1                1                    1       0          0   \n",
       "2                0                    0       0          0   \n",
       "\n",
       "   suspense/thriller/spy  tragicomedy  true_crime  war  western  young_adult  \n",
       "0                      0            0           0    0        0            0  \n",
       "1                      0            0           0    0        0            0  \n",
       "2                      0            0           0    0        0            0  \n",
       "\n",
       "[3 rows x 40 columns]"
      ]
     },
     "execution_count": 11,
     "metadata": {},
     "output_type": "execute_result"
    }
   ],
   "source": [
    "Y.head(3)"
   ]
  },
  {
   "cell_type": "code",
   "execution_count": 110,
   "metadata": {},
   "outputs": [],
   "source": [
    "category_names = list(Y.columns)"
   ]
  },
  {
   "cell_type": "code",
   "execution_count": 119,
   "metadata": {},
   "outputs": [],
   "source": [
    "with open('category_names.csv', 'w') as csvFile:\n",
    "    writer = csv.writer(csvFile)\n",
    "    writer.writerow(category_names)"
   ]
  },
  {
   "cell_type": "code",
   "execution_count": 126,
   "metadata": {},
   "outputs": [
    {
     "data": {
      "text/plain": [
       "['absurdist_fiction',\n",
       " 'adventure',\n",
       " 'anthol_biog_autobiog',\n",
       " 'anthropology',\n",
       " 'anti-nuclear',\n",
       " 'anti-war',\n",
       " 'chick_lit',\n",
       " 'children',\n",
       " 'comedy',\n",
       " 'conspiracy',\n",
       " 'conspiracy_fiction',\n",
       " 'cookbook',\n",
       " 'creative_nonfiction',\n",
       " 'crime_fiction',\n",
       " 'drama',\n",
       " 'existential_philosophy',\n",
       " 'fantasy',\n",
       " 'fiction',\n",
       " 'gay_themed',\n",
       " 'historical_fiction',\n",
       " 'horror',\n",
       " 'indian_chick_lit',\n",
       " 'informational',\n",
       " 'lgbt',\n",
       " 'non_fiction_lit',\n",
       " 'popular_culture',\n",
       " 'pornography',\n",
       " 'realistic_fiction',\n",
       " 'religious',\n",
       " 'romance',\n",
       " 'science_fiction',\n",
       " 'speculative_fiction',\n",
       " 'sports',\n",
       " 'steampunk',\n",
       " 'suspense/thriller/spy',\n",
       " 'tragicomedy',\n",
       " 'true_crime',\n",
       " 'war',\n",
       " 'western',\n",
       " 'young_adult']"
      ]
     },
     "execution_count": 126,
     "metadata": {},
     "output_type": "execute_result"
    }
   ],
   "source": [
    "with open('category_names.csv', 'r') as csvFile:\n",
    "    reader = csv.reader(csvFile)\n",
    "    category_names_list = list(reader)\n",
    "category_names_list = category_names_list[0]\n",
    "category_names_list"
   ]
  },
  {
   "cell_type": "code",
   "execution_count": 115,
   "metadata": {},
   "outputs": [
    {
     "data": {
      "text/html": [
       "<div>\n",
       "<style scoped>\n",
       "    .dataframe tbody tr th:only-of-type {\n",
       "        vertical-align: middle;\n",
       "    }\n",
       "\n",
       "    .dataframe tbody tr th {\n",
       "        vertical-align: top;\n",
       "    }\n",
       "\n",
       "    .dataframe thead th {\n",
       "        text-align: right;\n",
       "    }\n",
       "</style>\n",
       "<table border=\"1\" class=\"dataframe\">\n",
       "  <thead>\n",
       "    <tr style=\"text-align: right;\">\n",
       "      <th></th>\n",
       "      <th>absurdist_fiction</th>\n",
       "      <th>adventure</th>\n",
       "      <th>anthol_biog_autobiog</th>\n",
       "      <th>anthropology</th>\n",
       "      <th>anti-nuclear</th>\n",
       "      <th>anti-war</th>\n",
       "      <th>chick_lit</th>\n",
       "      <th>children</th>\n",
       "      <th>comedy</th>\n",
       "      <th>conspiracy</th>\n",
       "      <th>...</th>\n",
       "      <th>science_fiction</th>\n",
       "      <th>speculative_fiction</th>\n",
       "      <th>sports</th>\n",
       "      <th>steampunk</th>\n",
       "      <th>suspense/thriller/spy</th>\n",
       "      <th>tragicomedy</th>\n",
       "      <th>true_crime</th>\n",
       "      <th>war</th>\n",
       "      <th>western</th>\n",
       "      <th>young_adult</th>\n",
       "    </tr>\n",
       "  </thead>\n",
       "  <tbody>\n",
       "  </tbody>\n",
       "</table>\n",
       "<p>0 rows × 40 columns</p>\n",
       "</div>"
      ],
      "text/plain": [
       "Empty DataFrame\n",
       "Columns: [absurdist_fiction, adventure, anthol_biog_autobiog, anthropology, anti-nuclear, anti-war, chick_lit, children, comedy, conspiracy, conspiracy_fiction, cookbook, creative_nonfiction, crime_fiction, drama, existential_philosophy, fantasy, fiction, gay_themed, historical_fiction, horror, indian_chick_lit, informational, lgbt, non_fiction_lit, popular_culture, pornography, realistic_fiction, religious, romance, science_fiction, speculative_fiction, sports, steampunk, suspense/thriller/spy, tragicomedy, true_crime, war, western, young_adult]\n",
       "Index: []\n",
       "\n",
       "[0 rows x 40 columns]"
      ]
     },
     "execution_count": 115,
     "metadata": {},
     "output_type": "execute_result"
    }
   ],
   "source": [
    "pd.read_csv('category_names.csv')"
   ]
  },
  {
   "cell_type": "code",
   "execution_count": 12,
   "metadata": {},
   "outputs": [
    {
     "data": {
      "text/html": [
       "<div>\n",
       "<style scoped>\n",
       "    .dataframe tbody tr th:only-of-type {\n",
       "        vertical-align: middle;\n",
       "    }\n",
       "\n",
       "    .dataframe tbody tr th {\n",
       "        vertical-align: top;\n",
       "    }\n",
       "\n",
       "    .dataframe thead th {\n",
       "        text-align: right;\n",
       "    }\n",
       "</style>\n",
       "<table border=\"1\" class=\"dataframe\">\n",
       "  <thead>\n",
       "    <tr style=\"text-align: right;\">\n",
       "      <th></th>\n",
       "      <th>bookGenre</th>\n",
       "      <th>plotSum2vec</th>\n",
       "      <th>plotSumLDA</th>\n",
       "    </tr>\n",
       "  </thead>\n",
       "  <tbody>\n",
       "    <tr>\n",
       "      <th>0</th>\n",
       "      <td>['comedy', 'children', 'speculative_fiction', ...</td>\n",
       "      <td>[0.200577126220817, -0.07933575619857114, -0.1...</td>\n",
       "      <td>[[0.10461494554710699, 0.008884378461627089, 0...</td>\n",
       "    </tr>\n",
       "    <tr>\n",
       "      <th>1</th>\n",
       "      <td>['science_fiction', 'fiction', 'speculative_fi...</td>\n",
       "      <td>[0.18350660521234127, 0.06064006807343155, -0....</td>\n",
       "      <td>[[0.28507211845525116, 0.02644368505441909, 0....</td>\n",
       "    </tr>\n",
       "  </tbody>\n",
       "</table>\n",
       "</div>"
      ],
      "text/plain": [
       "                                           bookGenre  \\\n",
       "0  ['comedy', 'children', 'speculative_fiction', ...   \n",
       "1  ['science_fiction', 'fiction', 'speculative_fi...   \n",
       "\n",
       "                                         plotSum2vec  \\\n",
       "0  [0.200577126220817, -0.07933575619857114, -0.1...   \n",
       "1  [0.18350660521234127, 0.06064006807343155, -0....   \n",
       "\n",
       "                                          plotSumLDA  \n",
       "0  [[0.10461494554710699, 0.008884378461627089, 0...  \n",
       "1  [[0.28507211845525116, 0.02644368505441909, 0....  "
      ]
     },
     "execution_count": 12,
     "metadata": {},
     "output_type": "execute_result"
    }
   ],
   "source": [
    "books.head(2)"
   ]
  },
  {
   "cell_type": "code",
   "execution_count": 13,
   "metadata": {},
   "outputs": [],
   "source": [
    "plotSumVecs = books['plotSum2vec']"
   ]
  },
  {
   "cell_type": "code",
   "execution_count": 14,
   "metadata": {},
   "outputs": [],
   "source": [
    "plotSumVecs_list = [ast.literal_eval(x) for x in plotSumVecs]"
   ]
  },
  {
   "cell_type": "code",
   "execution_count": 15,
   "metadata": {},
   "outputs": [],
   "source": [
    "plotSumVecs_DF = pd.DataFrame(data=plotSumVecs_list)"
   ]
  },
  {
   "cell_type": "code",
   "execution_count": 16,
   "metadata": {},
   "outputs": [
    {
     "data": {
      "text/plain": [
       "(12671, 50)"
      ]
     },
     "execution_count": 16,
     "metadata": {},
     "output_type": "execute_result"
    }
   ],
   "source": [
    "plotSumVecs_DF.shape"
   ]
  },
  {
   "cell_type": "code",
   "execution_count": 17,
   "metadata": {},
   "outputs": [],
   "source": [
    "plotSumLDA_vecs = books['plotSumLDA']"
   ]
  },
  {
   "cell_type": "code",
   "execution_count": 18,
   "metadata": {},
   "outputs": [],
   "source": [
    "plotSumLDA_list = [ast.literal_eval(x) for x in plotSumLDA_vecs]"
   ]
  },
  {
   "cell_type": "code",
   "execution_count": 19,
   "metadata": {},
   "outputs": [],
   "source": [
    "plotSumLDA_list = [innerList[0] for innerList in plotSumLDA_list]"
   ]
  },
  {
   "cell_type": "code",
   "execution_count": 20,
   "metadata": {},
   "outputs": [],
   "source": [
    "plotSumLDA_DF = pd.DataFrame(data=plotSumLDA_list)"
   ]
  },
  {
   "cell_type": "code",
   "execution_count": 35,
   "metadata": {},
   "outputs": [
    {
     "data": {
      "text/html": [
       "<div>\n",
       "<style scoped>\n",
       "    .dataframe tbody tr th:only-of-type {\n",
       "        vertical-align: middle;\n",
       "    }\n",
       "\n",
       "    .dataframe tbody tr th {\n",
       "        vertical-align: top;\n",
       "    }\n",
       "\n",
       "    .dataframe thead th {\n",
       "        text-align: right;\n",
       "    }\n",
       "</style>\n",
       "<table border=\"1\" class=\"dataframe\">\n",
       "  <thead>\n",
       "    <tr style=\"text-align: right;\">\n",
       "      <th></th>\n",
       "      <th>word2vec_1</th>\n",
       "      <th>word2vec_2</th>\n",
       "      <th>word2vec_3</th>\n",
       "      <th>word2vec_4</th>\n",
       "      <th>word2vec_5</th>\n",
       "      <th>word2vec_6</th>\n",
       "      <th>word2vec_7</th>\n",
       "      <th>word2vec_8</th>\n",
       "      <th>word2vec_9</th>\n",
       "      <th>word2vec_10</th>\n",
       "      <th>...</th>\n",
       "      <th>word2vec_41</th>\n",
       "      <th>word2vec_42</th>\n",
       "      <th>word2vec_43</th>\n",
       "      <th>word2vec_44</th>\n",
       "      <th>word2vec_45</th>\n",
       "      <th>word2vec_46</th>\n",
       "      <th>word2vec_47</th>\n",
       "      <th>word2vec_48</th>\n",
       "      <th>word2vec_49</th>\n",
       "      <th>word2vec_50</th>\n",
       "    </tr>\n",
       "  </thead>\n",
       "  <tbody>\n",
       "    <tr>\n",
       "      <th>0</th>\n",
       "      <td>0.200577</td>\n",
       "      <td>-0.079336</td>\n",
       "      <td>-0.147509</td>\n",
       "      <td>-0.320832</td>\n",
       "      <td>0.305592</td>\n",
       "      <td>0.252995</td>\n",
       "      <td>-0.167397</td>\n",
       "      <td>-0.163471</td>\n",
       "      <td>0.100141</td>\n",
       "      <td>-0.014162</td>\n",
       "      <td>...</td>\n",
       "      <td>-0.211084</td>\n",
       "      <td>-0.093839</td>\n",
       "      <td>0.060648</td>\n",
       "      <td>0.248629</td>\n",
       "      <td>0.178152</td>\n",
       "      <td>0.060955</td>\n",
       "      <td>-0.150804</td>\n",
       "      <td>-0.203166</td>\n",
       "      <td>-0.022193</td>\n",
       "      <td>-0.015207</td>\n",
       "    </tr>\n",
       "    <tr>\n",
       "      <th>1</th>\n",
       "      <td>0.183507</td>\n",
       "      <td>0.060640</td>\n",
       "      <td>-0.132822</td>\n",
       "      <td>-0.262741</td>\n",
       "      <td>0.230780</td>\n",
       "      <td>0.184257</td>\n",
       "      <td>-0.194810</td>\n",
       "      <td>0.113546</td>\n",
       "      <td>-0.122146</td>\n",
       "      <td>0.155339</td>\n",
       "      <td>...</td>\n",
       "      <td>-0.155676</td>\n",
       "      <td>0.094734</td>\n",
       "      <td>-0.066658</td>\n",
       "      <td>0.097976</td>\n",
       "      <td>0.218821</td>\n",
       "      <td>-0.048189</td>\n",
       "      <td>-0.050164</td>\n",
       "      <td>-0.193672</td>\n",
       "      <td>-0.010194</td>\n",
       "      <td>-0.013911</td>\n",
       "    </tr>\n",
       "    <tr>\n",
       "      <th>2</th>\n",
       "      <td>0.437469</td>\n",
       "      <td>0.004273</td>\n",
       "      <td>-0.097058</td>\n",
       "      <td>-0.315284</td>\n",
       "      <td>0.176915</td>\n",
       "      <td>0.101175</td>\n",
       "      <td>-0.154972</td>\n",
       "      <td>0.181951</td>\n",
       "      <td>0.032470</td>\n",
       "      <td>-0.025964</td>\n",
       "      <td>...</td>\n",
       "      <td>-0.280644</td>\n",
       "      <td>0.048311</td>\n",
       "      <td>0.112386</td>\n",
       "      <td>0.077253</td>\n",
       "      <td>0.133229</td>\n",
       "      <td>0.058216</td>\n",
       "      <td>-0.131414</td>\n",
       "      <td>-0.136893</td>\n",
       "      <td>0.014812</td>\n",
       "      <td>-0.055796</td>\n",
       "    </tr>\n",
       "  </tbody>\n",
       "</table>\n",
       "<p>3 rows × 50 columns</p>\n",
       "</div>"
      ],
      "text/plain": [
       "   word2vec_1  word2vec_2  word2vec_3  word2vec_4  word2vec_5  word2vec_6  \\\n",
       "0    0.200577   -0.079336   -0.147509   -0.320832    0.305592    0.252995   \n",
       "1    0.183507    0.060640   -0.132822   -0.262741    0.230780    0.184257   \n",
       "2    0.437469    0.004273   -0.097058   -0.315284    0.176915    0.101175   \n",
       "\n",
       "   word2vec_7  word2vec_8  word2vec_9  word2vec_10  ...  word2vec_41  \\\n",
       "0   -0.167397   -0.163471    0.100141    -0.014162  ...    -0.211084   \n",
       "1   -0.194810    0.113546   -0.122146     0.155339  ...    -0.155676   \n",
       "2   -0.154972    0.181951    0.032470    -0.025964  ...    -0.280644   \n",
       "\n",
       "   word2vec_42  word2vec_43  word2vec_44  word2vec_45  word2vec_46  \\\n",
       "0    -0.093839     0.060648     0.248629     0.178152     0.060955   \n",
       "1     0.094734    -0.066658     0.097976     0.218821    -0.048189   \n",
       "2     0.048311     0.112386     0.077253     0.133229     0.058216   \n",
       "\n",
       "   word2vec_47  word2vec_48  word2vec_49  word2vec_50  \n",
       "0    -0.150804    -0.203166    -0.022193    -0.015207  \n",
       "1    -0.050164    -0.193672    -0.010194    -0.013911  \n",
       "2    -0.131414    -0.136893     0.014812    -0.055796  \n",
       "\n",
       "[3 rows x 50 columns]"
      ]
     },
     "execution_count": 35,
     "metadata": {},
     "output_type": "execute_result"
    }
   ],
   "source": [
    "newColsWord2vec = []\n",
    "for columnIndex in range(len(plotSumVecs_DF.columns)):\n",
    "    newColsWord2vec.append('word2vec_'+str(columnIndex+1))\n",
    "plotSumVecs_DF.columns = newColsWord2vec\n",
    "\n",
    "plotSumVecs_DF.head(3)"
   ]
  },
  {
   "cell_type": "code",
   "execution_count": 72,
   "metadata": {},
   "outputs": [
    {
     "data": {
      "text/html": [
       "<div>\n",
       "<style scoped>\n",
       "    .dataframe tbody tr th:only-of-type {\n",
       "        vertical-align: middle;\n",
       "    }\n",
       "\n",
       "    .dataframe tbody tr th {\n",
       "        vertical-align: top;\n",
       "    }\n",
       "\n",
       "    .dataframe thead th {\n",
       "        text-align: right;\n",
       "    }\n",
       "</style>\n",
       "<table border=\"1\" class=\"dataframe\">\n",
       "  <thead>\n",
       "    <tr style=\"text-align: right;\">\n",
       "      <th></th>\n",
       "      <th>LDA_1</th>\n",
       "      <th>LDA_2</th>\n",
       "      <th>LDA_3</th>\n",
       "      <th>LDA_4</th>\n",
       "      <th>LDA_5</th>\n",
       "      <th>LDA_6</th>\n",
       "      <th>LDA_7</th>\n",
       "      <th>LDA_8</th>\n",
       "      <th>LDA_9</th>\n",
       "      <th>LDA_10</th>\n",
       "      <th>LDA_11</th>\n",
       "      <th>LDA_12</th>\n",
       "      <th>LDA_13</th>\n",
       "      <th>LDA_14</th>\n",
       "      <th>LDA_15</th>\n",
       "      <th>LDA_16</th>\n",
       "      <th>LDA_17</th>\n",
       "      <th>LDA_18</th>\n",
       "      <th>LDA_19</th>\n",
       "      <th>LDA_20</th>\n",
       "    </tr>\n",
       "  </thead>\n",
       "  <tbody>\n",
       "    <tr>\n",
       "      <th>0</th>\n",
       "      <td>0.104615</td>\n",
       "      <td>0.008884</td>\n",
       "      <td>0.000105</td>\n",
       "      <td>0.039394</td>\n",
       "      <td>0.000105</td>\n",
       "      <td>0.000105</td>\n",
       "      <td>0.000105</td>\n",
       "      <td>0.000105</td>\n",
       "      <td>0.222072</td>\n",
       "      <td>0.000105</td>\n",
       "      <td>0.028772</td>\n",
       "      <td>0.000105</td>\n",
       "      <td>0.000105</td>\n",
       "      <td>0.153764</td>\n",
       "      <td>0.000105</td>\n",
       "      <td>0.105744</td>\n",
       "      <td>0.064670</td>\n",
       "      <td>0.270936</td>\n",
       "      <td>0.000105</td>\n",
       "      <td>0.000105</td>\n",
       "    </tr>\n",
       "    <tr>\n",
       "      <th>1</th>\n",
       "      <td>0.285072</td>\n",
       "      <td>0.026444</td>\n",
       "      <td>0.031290</td>\n",
       "      <td>0.000119</td>\n",
       "      <td>0.000119</td>\n",
       "      <td>0.000119</td>\n",
       "      <td>0.025189</td>\n",
       "      <td>0.000119</td>\n",
       "      <td>0.280084</td>\n",
       "      <td>0.000119</td>\n",
       "      <td>0.229332</td>\n",
       "      <td>0.000119</td>\n",
       "      <td>0.000119</td>\n",
       "      <td>0.000119</td>\n",
       "      <td>0.000119</td>\n",
       "      <td>0.121041</td>\n",
       "      <td>0.000119</td>\n",
       "      <td>0.000119</td>\n",
       "      <td>0.000119</td>\n",
       "      <td>0.000119</td>\n",
       "    </tr>\n",
       "    <tr>\n",
       "      <th>2</th>\n",
       "      <td>0.000094</td>\n",
       "      <td>0.211537</td>\n",
       "      <td>0.059044</td>\n",
       "      <td>0.011153</td>\n",
       "      <td>0.000094</td>\n",
       "      <td>0.000094</td>\n",
       "      <td>0.000094</td>\n",
       "      <td>0.005053</td>\n",
       "      <td>0.179821</td>\n",
       "      <td>0.000094</td>\n",
       "      <td>0.223022</td>\n",
       "      <td>0.000094</td>\n",
       "      <td>0.000094</td>\n",
       "      <td>0.000094</td>\n",
       "      <td>0.000094</td>\n",
       "      <td>0.097433</td>\n",
       "      <td>0.211813</td>\n",
       "      <td>0.000094</td>\n",
       "      <td>0.000094</td>\n",
       "      <td>0.000094</td>\n",
       "    </tr>\n",
       "  </tbody>\n",
       "</table>\n",
       "</div>"
      ],
      "text/plain": [
       "      LDA_1     LDA_2     LDA_3     LDA_4     LDA_5     LDA_6     LDA_7  \\\n",
       "0  0.104615  0.008884  0.000105  0.039394  0.000105  0.000105  0.000105   \n",
       "1  0.285072  0.026444  0.031290  0.000119  0.000119  0.000119  0.025189   \n",
       "2  0.000094  0.211537  0.059044  0.011153  0.000094  0.000094  0.000094   \n",
       "\n",
       "      LDA_8     LDA_9    LDA_10    LDA_11    LDA_12    LDA_13    LDA_14  \\\n",
       "0  0.000105  0.222072  0.000105  0.028772  0.000105  0.000105  0.153764   \n",
       "1  0.000119  0.280084  0.000119  0.229332  0.000119  0.000119  0.000119   \n",
       "2  0.005053  0.179821  0.000094  0.223022  0.000094  0.000094  0.000094   \n",
       "\n",
       "     LDA_15    LDA_16    LDA_17    LDA_18    LDA_19    LDA_20  \n",
       "0  0.000105  0.105744  0.064670  0.270936  0.000105  0.000105  \n",
       "1  0.000119  0.121041  0.000119  0.000119  0.000119  0.000119  \n",
       "2  0.000094  0.097433  0.211813  0.000094  0.000094  0.000094  "
      ]
     },
     "execution_count": 72,
     "metadata": {},
     "output_type": "execute_result"
    }
   ],
   "source": [
    "newColsLDA = []\n",
    "for columnIndex in range(len(plotSumLDA_DF.columns)):\n",
    "    newColsLDA.append('LDA_'+str(columnIndex+1))\n",
    "plotSumLDA_DF.columns = newColsLDA\n",
    "\n",
    "plotSumLDA_DF.head(3)"
   ]
  },
  {
   "cell_type": "code",
   "execution_count": 40,
   "metadata": {},
   "outputs": [],
   "source": [
    "X = pd.concat([plotSumLDA_DF,plotSumVecs_DF], axis=1)"
   ]
  },
  {
   "cell_type": "code",
   "execution_count": 41,
   "metadata": {},
   "outputs": [],
   "source": [
    "X_train, X_test, Y_train, Y_test = train_test_split(X, Y)"
   ]
  },
  {
   "cell_type": "code",
   "execution_count": 103,
   "metadata": {},
   "outputs": [],
   "source": [
    "rfc = OneVsRestClassifier(RandomForestClassifier(bootstrap=True, random_state=541, n_estimators=100, max_features='sqrt'))\n",
    "#rfc.fit(X_train, Y_train)\n",
    "#Y_pred = rfc.predict(X_test)"
   ]
  },
  {
   "cell_type": "code",
   "execution_count": 104,
   "metadata": {},
   "outputs": [
    {
     "name": "stdout",
     "output_type": "stream",
     "text": [
      "**Processing absurdist_fiction comments...**\n",
      "Test accuracy is 0.9977904040404041\n",
      "F1 score is 0.0\n",
      "Recall score is 0.0\n",
      "\n",
      "\n",
      "**Processing adventure comments...**\n"
     ]
    },
    {
     "name": "stderr",
     "output_type": "stream",
     "text": [
      "/anaconda3/envs/AVC/lib/python3.7/site-packages/sklearn/metrics/classification.py:1143: UndefinedMetricWarning: F-score is ill-defined and being set to 0.0 due to no predicted samples.\n",
      "  'precision', 'predicted', average, warn_for)\n"
     ]
    },
    {
     "name": "stdout",
     "output_type": "stream",
     "text": [
      "Test accuracy is 0.9750631313131313\n",
      "F1 score is 0.0\n",
      "Recall score is 0.0\n",
      "\n",
      "\n",
      "**Processing anthol_biog_autobiog comments...**\n"
     ]
    },
    {
     "name": "stderr",
     "output_type": "stream",
     "text": [
      "/anaconda3/envs/AVC/lib/python3.7/site-packages/sklearn/metrics/classification.py:1143: UndefinedMetricWarning: F-score is ill-defined and being set to 0.0 due to no predicted samples.\n",
      "  'precision', 'predicted', average, warn_for)\n"
     ]
    },
    {
     "name": "stdout",
     "output_type": "stream",
     "text": [
      "Test accuracy is 0.9775883838383839\n",
      "F1 score is 0.0273972602739726\n",
      "Recall score is 0.013888888888888888\n",
      "\n",
      "\n",
      "**Processing anthropology comments...**\n",
      "Test accuracy is 1.0\n",
      "F1 score is 0.0\n",
      "Recall score is 0.0\n",
      "\n",
      "\n",
      "**Processing anti-nuclear comments...**\n",
      "Test accuracy is 1.0\n",
      "F1 score is 0.0\n",
      "Recall score is 0.0\n",
      "\n",
      "\n",
      "**Processing anti-war comments...**\n",
      "Test accuracy is 1.0\n",
      "F1 score is 0.0\n",
      "Recall score is 0.0\n",
      "\n",
      "\n",
      "**Processing chick_lit comments...**\n",
      "Test accuracy is 0.9990530303030303\n",
      "F1 score is 0.0\n",
      "Recall score is 0.0\n",
      "\n",
      "\n",
      "**Processing children comments...**\n"
     ]
    },
    {
     "name": "stderr",
     "output_type": "stream",
     "text": [
      "/anaconda3/envs/AVC/lib/python3.7/site-packages/sklearn/metrics/classification.py:1143: UndefinedMetricWarning: F-score is ill-defined and being set to 0.0 due to no predicted samples.\n",
      "  'precision', 'predicted', average, warn_for)\n"
     ]
    },
    {
     "name": "stdout",
     "output_type": "stream",
     "text": [
      "Test accuracy is 0.8519570707070707\n",
      "F1 score is 0.2883156297420334\n",
      "Recall score is 0.17790262172284643\n",
      "\n",
      "\n",
      "**Processing comedy comments...**\n",
      "Test accuracy is 0.9756944444444444\n",
      "F1 score is 0.02531645569620253\n",
      "Recall score is 0.01282051282051282\n",
      "\n",
      "\n",
      "**Processing conspiracy comments...**\n",
      "Test accuracy is 1.0\n",
      "F1 score is 0.0\n",
      "Recall score is 0.0\n",
      "\n",
      "\n",
      "**Processing conspiracy_fiction comments...**\n",
      "Test accuracy is 0.9993686868686869\n",
      "F1 score is 0.0\n",
      "Recall score is 0.0\n",
      "\n",
      "\n",
      "**Processing cookbook comments...**\n"
     ]
    },
    {
     "name": "stderr",
     "output_type": "stream",
     "text": [
      "/anaconda3/envs/AVC/lib/python3.7/site-packages/sklearn/metrics/classification.py:1143: UndefinedMetricWarning: F-score is ill-defined and being set to 0.0 due to no predicted samples.\n",
      "  'precision', 'predicted', average, warn_for)\n"
     ]
    },
    {
     "name": "stdout",
     "output_type": "stream",
     "text": [
      "Test accuracy is 0.9996843434343434\n",
      "F1 score is 0.0\n",
      "Recall score is 0.0\n",
      "\n",
      "\n",
      "**Processing creative_nonfiction comments...**\n"
     ]
    },
    {
     "name": "stderr",
     "output_type": "stream",
     "text": [
      "/anaconda3/envs/AVC/lib/python3.7/site-packages/sklearn/metrics/classification.py:1143: UndefinedMetricWarning: F-score is ill-defined and being set to 0.0 due to no predicted samples.\n",
      "  'precision', 'predicted', average, warn_for)\n"
     ]
    },
    {
     "name": "stdout",
     "output_type": "stream",
     "text": [
      "Test accuracy is 1.0\n",
      "F1 score is 0.0\n",
      "Recall score is 0.0\n",
      "\n",
      "\n",
      "**Processing crime_fiction comments...**\n",
      "Test accuracy is 0.9037247474747475\n",
      "F1 score is 0.5906040268456375\n",
      "Recall score is 0.4772234273318872\n",
      "\n",
      "\n",
      "**Processing drama comments...**\n",
      "Test accuracy is 0.9971590909090909\n",
      "F1 score is 0.0\n",
      "Recall score is 0.0\n",
      "\n",
      "\n",
      "**Processing existential_philosophy comments...**\n"
     ]
    },
    {
     "name": "stderr",
     "output_type": "stream",
     "text": [
      "/anaconda3/envs/AVC/lib/python3.7/site-packages/sklearn/metrics/classification.py:1143: UndefinedMetricWarning: F-score is ill-defined and being set to 0.0 due to no predicted samples.\n",
      "  'precision', 'predicted', average, warn_for)\n"
     ]
    },
    {
     "name": "stdout",
     "output_type": "stream",
     "text": [
      "Test accuracy is 0.9965277777777778\n",
      "F1 score is 0.0\n",
      "Recall score is 0.0\n",
      "\n",
      "\n",
      "**Processing fantasy comments...**\n"
     ]
    },
    {
     "name": "stderr",
     "output_type": "stream",
     "text": [
      "/anaconda3/envs/AVC/lib/python3.7/site-packages/sklearn/metrics/classification.py:1143: UndefinedMetricWarning: F-score is ill-defined and being set to 0.0 due to no predicted samples.\n",
      "  'precision', 'predicted', average, warn_for)\n"
     ]
    },
    {
     "name": "stdout",
     "output_type": "stream",
     "text": [
      "Test accuracy is 0.8753156565656566\n",
      "F1 score is 0.6153846153846154\n",
      "Recall score is 0.48244274809160304\n",
      "\n",
      "\n",
      "**Processing fiction comments...**\n",
      "Test accuracy is 0.6521464646464646\n",
      "F1 score is 0.6862186788154897\n",
      "Recall score is 0.7034442498540572\n",
      "\n",
      "\n",
      "**Processing gay_themed comments...**\n",
      "Test accuracy is 1.0\n",
      "F1 score is 0.0\n",
      "Recall score is 0.0\n",
      "\n",
      "\n",
      "**Processing historical_fiction comments...**\n",
      "Test accuracy is 0.9715909090909091\n",
      "F1 score is 0.0\n",
      "Recall score is 0.0\n",
      "\n",
      "\n",
      "**Processing horror comments...**\n"
     ]
    },
    {
     "name": "stderr",
     "output_type": "stream",
     "text": [
      "/anaconda3/envs/AVC/lib/python3.7/site-packages/sklearn/metrics/classification.py:1143: UndefinedMetricWarning: F-score is ill-defined and being set to 0.0 due to no predicted samples.\n",
      "  'precision', 'predicted', average, warn_for)\n"
     ]
    },
    {
     "name": "stdout",
     "output_type": "stream",
     "text": [
      "Test accuracy is 0.9548611111111112\n",
      "F1 score is 0.14371257485029942\n",
      "Recall score is 0.07741935483870968\n",
      "\n",
      "\n",
      "**Processing indian_chick_lit comments...**\n",
      "Test accuracy is 1.0\n",
      "F1 score is 0.0\n",
      "Recall score is 0.0\n",
      "\n",
      "\n",
      "**Processing informational comments...**\n",
      "Test accuracy is 0.9564393939393939\n",
      "F1 score is 0.028169014084507043\n",
      "Recall score is 0.014285714285714285\n",
      "\n",
      "\n",
      "**Processing lgbt comments...**\n",
      "Test accuracy is 1.0\n",
      "F1 score is 0.0\n",
      "Recall score is 0.0\n",
      "\n",
      "\n",
      "**Processing non_fiction_lit comments...**\n",
      "Test accuracy is 0.9861111111111112\n",
      "F1 score is 0.2903225806451613\n",
      "Recall score is 0.17307692307692307\n",
      "\n",
      "\n",
      "**Processing popular_culture comments...**\n",
      "Test accuracy is 1.0\n",
      "F1 score is 0.0\n",
      "Recall score is 0.0\n",
      "\n",
      "\n",
      "**Processing pornography comments...**\n",
      "Test accuracy is 1.0\n",
      "F1 score is 0.0\n",
      "Recall score is 0.0\n",
      "\n",
      "\n",
      "**Processing realistic_fiction comments...**\n",
      "Test accuracy is 0.9990530303030303\n",
      "F1 score is 0.0\n",
      "Recall score is 0.0\n",
      "\n",
      "\n",
      "**Processing religious comments...**\n"
     ]
    },
    {
     "name": "stderr",
     "output_type": "stream",
     "text": [
      "/anaconda3/envs/AVC/lib/python3.7/site-packages/sklearn/metrics/classification.py:1143: UndefinedMetricWarning: F-score is ill-defined and being set to 0.0 due to no predicted samples.\n",
      "  'precision', 'predicted', average, warn_for)\n"
     ]
    },
    {
     "name": "stdout",
     "output_type": "stream",
     "text": [
      "Test accuracy is 0.9981060606060606\n",
      "F1 score is 0.0\n",
      "Recall score is 0.0\n",
      "\n",
      "\n",
      "**Processing romance comments...**\n"
     ]
    },
    {
     "name": "stderr",
     "output_type": "stream",
     "text": [
      "/anaconda3/envs/AVC/lib/python3.7/site-packages/sklearn/metrics/classification.py:1143: UndefinedMetricWarning: F-score is ill-defined and being set to 0.0 due to no predicted samples.\n",
      "  'precision', 'predicted', average, warn_for)\n"
     ]
    },
    {
     "name": "stdout",
     "output_type": "stream",
     "text": [
      "Test accuracy is 0.9917929292929293\n",
      "F1 score is 0.0\n",
      "Recall score is 0.0\n",
      "\n",
      "\n",
      "**Processing science_fiction comments...**\n"
     ]
    },
    {
     "name": "stderr",
     "output_type": "stream",
     "text": [
      "/anaconda3/envs/AVC/lib/python3.7/site-packages/sklearn/metrics/classification.py:1143: UndefinedMetricWarning: F-score is ill-defined and being set to 0.0 due to no predicted samples.\n",
      "  'precision', 'predicted', average, warn_for)\n"
     ]
    },
    {
     "name": "stdout",
     "output_type": "stream",
     "text": [
      "Test accuracy is 0.865530303030303\n",
      "F1 score is 0.6586538461538461\n",
      "Recall score is 0.5561569688768606\n",
      "\n",
      "\n",
      "**Processing speculative_fiction comments...**\n",
      "Test accuracy is 0.7575757575757576\n",
      "F1 score is 0.5862068965517242\n",
      "Recall score is 0.5088868101028999\n",
      "\n",
      "\n",
      "**Processing sports comments...**\n",
      "Test accuracy is 0.9987373737373737\n",
      "F1 score is 0.0\n",
      "Recall score is 0.0\n",
      "\n",
      "\n",
      "**Processing steampunk comments...**\n"
     ]
    },
    {
     "name": "stderr",
     "output_type": "stream",
     "text": [
      "/anaconda3/envs/AVC/lib/python3.7/site-packages/sklearn/metrics/classification.py:1143: UndefinedMetricWarning: F-score is ill-defined and being set to 0.0 due to no predicted samples.\n",
      "  'precision', 'predicted', average, warn_for)\n"
     ]
    },
    {
     "name": "stdout",
     "output_type": "stream",
     "text": [
      "Test accuracy is 0.9946338383838383\n",
      "F1 score is 0.0\n",
      "Recall score is 0.0\n",
      "\n",
      "\n",
      "**Processing suspense/thriller/spy comments...**\n"
     ]
    },
    {
     "name": "stderr",
     "output_type": "stream",
     "text": [
      "/anaconda3/envs/AVC/lib/python3.7/site-packages/sklearn/metrics/classification.py:1143: UndefinedMetricWarning: F-score is ill-defined and being set to 0.0 due to no predicted samples.\n",
      "  'precision', 'predicted', average, warn_for)\n"
     ]
    },
    {
     "name": "stdout",
     "output_type": "stream",
     "text": [
      "Test accuracy is 0.8977272727272727\n",
      "F1 score is 0.1336898395721925\n",
      "Recall score is 0.0748502994011976\n",
      "\n",
      "\n",
      "**Processing tragicomedy comments...**\n",
      "Test accuracy is 0.9990530303030303\n",
      "F1 score is 0.0\n",
      "Recall score is 0.0\n",
      "\n",
      "\n",
      "**Processing true_crime comments...**\n"
     ]
    },
    {
     "name": "stderr",
     "output_type": "stream",
     "text": [
      "/anaconda3/envs/AVC/lib/python3.7/site-packages/sklearn/metrics/classification.py:1143: UndefinedMetricWarning: F-score is ill-defined and being set to 0.0 due to no predicted samples.\n",
      "  'precision', 'predicted', average, warn_for)\n"
     ]
    },
    {
     "name": "stdout",
     "output_type": "stream",
     "text": [
      "Test accuracy is 0.9974747474747475\n",
      "F1 score is 0.0\n",
      "Recall score is 0.0\n",
      "\n",
      "\n",
      "**Processing war comments...**\n"
     ]
    },
    {
     "name": "stderr",
     "output_type": "stream",
     "text": [
      "/anaconda3/envs/AVC/lib/python3.7/site-packages/sklearn/metrics/classification.py:1143: UndefinedMetricWarning: F-score is ill-defined and being set to 0.0 due to no predicted samples.\n",
      "  'precision', 'predicted', average, warn_for)\n"
     ]
    },
    {
     "name": "stdout",
     "output_type": "stream",
     "text": [
      "Test accuracy is 0.9993686868686869\n",
      "F1 score is 0.0\n",
      "Recall score is 0.0\n",
      "\n",
      "\n",
      "**Processing western comments...**\n"
     ]
    },
    {
     "name": "stderr",
     "output_type": "stream",
     "text": [
      "/anaconda3/envs/AVC/lib/python3.7/site-packages/sklearn/metrics/classification.py:1143: UndefinedMetricWarning: F-score is ill-defined and being set to 0.0 due to no predicted samples.\n",
      "  'precision', 'predicted', average, warn_for)\n"
     ]
    },
    {
     "name": "stdout",
     "output_type": "stream",
     "text": [
      "Test accuracy is 0.9949494949494949\n",
      "F1 score is 0.0\n",
      "Recall score is 0.0\n",
      "\n",
      "\n",
      "**Processing young_adult comments...**\n"
     ]
    },
    {
     "name": "stderr",
     "output_type": "stream",
     "text": [
      "/anaconda3/envs/AVC/lib/python3.7/site-packages/sklearn/metrics/classification.py:1143: UndefinedMetricWarning: F-score is ill-defined and being set to 0.0 due to no predicted samples.\n",
      "  'precision', 'predicted', average, warn_for)\n"
     ]
    },
    {
     "name": "stdout",
     "output_type": "stream",
     "text": [
      "Test accuracy is 0.9232954545454546\n",
      "F1 score is 0.00816326530612245\n",
      "Recall score is 0.00411522633744856\n",
      "\n",
      "\n"
     ]
    }
   ],
   "source": [
    "categories = Y.columns\n",
    "for category in categories:\n",
    "    print('**Processing {} comments...**'.format(category))\n",
    "    \n",
    "    # Training logistic regression model on train data\n",
    "    rfc.fit(X_train, Y_train[category])\n",
    "    \n",
    "    # calculating test accuracy\n",
    "    prediction = rfc.predict(X_test)\n",
    "    print('Test accuracy is {}'.format(accuracy_score(Y_test[category], prediction)))\n",
    "    print('F1 score is {}'.format(f1_score(Y_test[category], prediction)))\n",
    "    print('Recall score is {}'.format(recall_score(Y_test[category], prediction)))\n",
    "    print(\"\\n\")"
   ]
  },
  {
   "cell_type": "code",
   "execution_count": 80,
   "metadata": {},
   "outputs": [],
   "source": [
    "np.set_printoptions(threshold=sys.maxsize)"
   ]
  },
  {
   "cell_type": "code",
   "execution_count": 83,
   "metadata": {},
   "outputs": [
    {
     "data": {
      "text/plain": [
       "(3168, 40)"
      ]
     },
     "execution_count": 83,
     "metadata": {},
     "output_type": "execute_result"
    }
   ],
   "source": [
    "Y_pred.shape"
   ]
  },
  {
   "cell_type": "code",
   "execution_count": 69,
   "metadata": {},
   "outputs": [
    {
     "data": {
      "text/plain": [
       "{'absurdist_fiction',\n",
       " 'adventure',\n",
       " 'anthol_biog_autobiog',\n",
       " 'anthropology',\n",
       " 'anti-nuclear',\n",
       " 'anti-war',\n",
       " 'chick_lit',\n",
       " 'children',\n",
       " 'comedy',\n",
       " 'conspiracy',\n",
       " 'conspiracy_fiction',\n",
       " 'cookbook',\n",
       " 'creative_nonfiction',\n",
       " 'crime_fiction',\n",
       " 'drama',\n",
       " 'existential_philosophy',\n",
       " 'fantasy',\n",
       " 'fiction',\n",
       " 'gay_themed',\n",
       " 'historical_fiction',\n",
       " 'horror',\n",
       " 'indian_chick_lit',\n",
       " 'informational',\n",
       " 'lgbt',\n",
       " 'non_fiction_lit',\n",
       " 'popular_culture',\n",
       " 'pornography',\n",
       " 'realistic_fiction',\n",
       " 'religious',\n",
       " 'romance',\n",
       " 'science_fiction',\n",
       " 'speculative_fiction',\n",
       " 'sports',\n",
       " 'steampunk',\n",
       " 'suspense/thriller/spy',\n",
       " 'tragicomedy',\n",
       " 'true_crime',\n",
       " 'war',\n",
       " 'western',\n",
       " 'young_adult'}"
      ]
     },
     "execution_count": 69,
     "metadata": {},
     "output_type": "execute_result"
    }
   ],
   "source": [
    "genres = []\n",
    "for genreList in genres_list:\n",
    "    for genre in genreList:\n",
    "        genres.append(genre)\n",
    "genres = set(genres)\n",
    "genres"
   ]
  },
  {
   "cell_type": "code",
   "execution_count": null,
   "metadata": {},
   "outputs": [],
   "source": []
  },
  {
   "cell_type": "code",
   "execution_count": null,
   "metadata": {},
   "outputs": [],
   "source": []
  }
 ],
 "metadata": {
  "kernelspec": {
   "display_name": "AVC",
   "language": "python",
   "name": "avc"
  },
  "language_info": {
   "codemirror_mode": {
    "name": "ipython",
    "version": 3
   },
   "file_extension": ".py",
   "mimetype": "text/x-python",
   "name": "python",
   "nbconvert_exporter": "python",
   "pygments_lexer": "ipython3",
   "version": "3.7.3"
  }
 },
 "nbformat": 4,
 "nbformat_minor": 2
}
